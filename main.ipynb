{
  "nbformat": 4,
  "nbformat_minor": 0,
  "metadata": {
    "colab": {
      "provenance": [],
      "mount_file_id": "1HHkhGhRCsG--fDF6lsOLfKWf6p5c-oR8",
      "authorship_tag": "ABX9TyNJmmzIbNAk2sKyPa7R3nnn",
      "include_colab_link": true
    },
    "kernelspec": {
      "name": "python3",
      "display_name": "Python 3"
    },
    "language_info": {
      "name": "python"
    }
  },
  "cells": [
    {
      "cell_type": "markdown",
      "metadata": {
        "id": "view-in-github",
        "colab_type": "text"
      },
      "source": [
        "<a href=\"https://colab.research.google.com/github/4LanCrane/4LanCrane/blob/main/main.ipynb\" target=\"_parent\"><img src=\"https://colab.research.google.com/assets/colab-badge.svg\" alt=\"Open In Colab\"/></a>"
      ]
    },
    {
      "cell_type": "code",
      "execution_count": null,
      "metadata": {
        "colab": {
          "base_uri": "https://localhost:8080/"
        },
        "id": "YTZN4LypQA-S",
        "outputId": "b9eafccc-e09f-4778-8702-15689765c945"
      },
      "outputs": [
        {
          "output_type": "stream",
          "name": "stdout",
          "text": [
            "Drive already mounted at /content/drive; to attempt to forcibly remount, call drive.mount(\"/content/drive\", force_remount=True).\n"
          ]
        }
      ],
      "source": [
        "from pyspark.sql import SparkSession\n",
        "from mlxtend.preprocessing import TransactionEncoder\n",
        "from pyspark.ml.feature import StringIndexer, CountVectorizer, VectorAssembler\n",
        "from pyspark.ml.fpm import FPGrowth\n",
        "from pyspark.ml import Pipeline\n",
        "from pyspark.ml.classification import NaiveBayes\n",
        "from pyspark.sql.functions import array, lit , explode, collect_list, array_distinct, array_remove, size, array_except, col, array_union, array_contains, concat, split, concat_ws, collect_set, expr\n",
        "from google.colab import drive\n",
        "drive.mount('/content/drive')\n",
        "file_path = \"/content/drive/MyDrive/Colab Notebooks/DiseaseAndSymptoms.csv\""
      ]
    },
    {
      "cell_type": "code",
      "source": [],
      "metadata": {
        "id": "avCq_U9hU-PN"
      },
      "execution_count": null,
      "outputs": []
    },
    {
      "cell_type": "code",
      "source": [
        "# function for creating a spark session\n",
        "def create_spark_session(app_name=\"HealthData\"):\n",
        "    return SparkSession.builder.appName(app_name).getOrCreate()\n",
        "\n",
        "# function for creating a dataframe\n",
        "def create_Dataframe(spark,file_path):\n",
        "    return spark.read.csv(file_path, header=True, inferSchema=True)\n",
        "\n",
        "# extracts symptoms colums from dataframe\n",
        "def extract_symptoms_column(df):\n",
        "    symptom_columns = [col_name for col_name in df.columns if col_name != 'Disease']\n",
        "    df = df.withColumn('Symptoms', array(*symptom_columns))\n",
        "    return df.select('Disease', 'Symptoms')\n",
        "\n",
        "# runs fpGrowth and returns model\n",
        "def run_fp_growth(df_aggregated,items_col_value, minSupport, minConfidence):\n",
        "    fp = FPGrowth(itemsCol=items_col_value, minSupport=minSupport, minConfidence=minConfidence)\n",
        "    model = fp.fit(df_aggregated)\n",
        "    return model\n",
        "# prints the number of distinct values\n",
        "def countDistinct(df, columnName):\n",
        "  print(\"Number of unique diseases =\",df.select(columnName).distinct().count())\n"
      ],
      "metadata": {
        "id": "HTmPCu5JQVFT"
      },
      "execution_count": null,
      "outputs": []
    },
    {
      "cell_type": "code",
      "source": [
        "spark = create_spark_session()\n",
        "df = create_Dataframe(spark, file_path)\n"
      ],
      "metadata": {
        "id": "1AQhassjXvP6"
      },
      "execution_count": null,
      "outputs": []
    },
    {
      "cell_type": "code",
      "source": [
        "numOfRecords = df.count()\n",
        "print(\"Number of records = \", numOfRecords)"
      ],
      "metadata": {
        "colab": {
          "base_uri": "https://localhost:8080/"
        },
        "id": "5jxqbQ30G3EU",
        "outputId": "1e5c4d01-a98b-4278-e305-aa195cfaaa0f"
      },
      "execution_count": null,
      "outputs": [
        {
          "output_type": "stream",
          "name": "stdout",
          "text": [
            "Number of records =  4920\n"
          ]
        }
      ]
    },
    {
      "cell_type": "markdown",
      "source": [
        "Ref = https://www.kaggle.com/code/megan3/market-basket-analysis-using-pyspark"
      ],
      "metadata": {
        "id": "UyAzveWcyIbN"
      }
    },
    {
      "cell_type": "code",
      "source": [
        "df = extract_symptoms_column(df)"
      ],
      "metadata": {
        "id": "MWK_OojxKprv"
      },
      "execution_count": null,
      "outputs": []
    },
    {
      "cell_type": "code",
      "source": [
        "df.show(10,False)"
      ],
      "metadata": {
        "id": "N4ctSFDElhr9",
        "colab": {
          "base_uri": "https://localhost:8080/"
        },
        "outputId": "cf8448f7-0f9a-459c-f2cf-12188d80a8ad"
      },
      "execution_count": null,
      "outputs": [
        {
          "output_type": "stream",
          "name": "stdout",
          "text": [
            "+----------------+------------------------------------------------------------------------------------------------------------------------------------------------+\n",
            "|Disease         |Symptoms                                                                                                                                        |\n",
            "+----------------+------------------------------------------------------------------------------------------------------------------------------------------------+\n",
            "|Fungal infection|[itching,  skin_rash,  nodal_skin_eruptions,  dischromic _patches, NULL, NULL, NULL, NULL, NULL, NULL, NULL, NULL, NULL, NULL, NULL, NULL, NULL]|\n",
            "|Fungal infection|[ skin_rash,  nodal_skin_eruptions,  dischromic _patches, NULL, NULL, NULL, NULL, NULL, NULL, NULL, NULL, NULL, NULL, NULL, NULL, NULL, NULL]   |\n",
            "|Fungal infection|[itching,  nodal_skin_eruptions,  dischromic _patches, NULL, NULL, NULL, NULL, NULL, NULL, NULL, NULL, NULL, NULL, NULL, NULL, NULL, NULL]      |\n",
            "|Fungal infection|[itching,  skin_rash,  dischromic _patches, NULL, NULL, NULL, NULL, NULL, NULL, NULL, NULL, NULL, NULL, NULL, NULL, NULL, NULL]                 |\n",
            "|Fungal infection|[itching,  skin_rash,  nodal_skin_eruptions, NULL, NULL, NULL, NULL, NULL, NULL, NULL, NULL, NULL, NULL, NULL, NULL, NULL, NULL]                |\n",
            "|Fungal infection|[ skin_rash,  nodal_skin_eruptions,  dischromic _patches, NULL, NULL, NULL, NULL, NULL, NULL, NULL, NULL, NULL, NULL, NULL, NULL, NULL, NULL]   |\n",
            "|Fungal infection|[itching,  nodal_skin_eruptions,  dischromic _patches, NULL, NULL, NULL, NULL, NULL, NULL, NULL, NULL, NULL, NULL, NULL, NULL, NULL, NULL]      |\n",
            "|Fungal infection|[itching,  skin_rash,  dischromic _patches, NULL, NULL, NULL, NULL, NULL, NULL, NULL, NULL, NULL, NULL, NULL, NULL, NULL, NULL]                 |\n",
            "|Fungal infection|[itching,  skin_rash,  nodal_skin_eruptions, NULL, NULL, NULL, NULL, NULL, NULL, NULL, NULL, NULL, NULL, NULL, NULL, NULL, NULL]                |\n",
            "|Fungal infection|[itching,  skin_rash,  nodal_skin_eruptions,  dischromic _patches, NULL, NULL, NULL, NULL, NULL, NULL, NULL, NULL, NULL, NULL, NULL, NULL, NULL]|\n",
            "+----------------+------------------------------------------------------------------------------------------------------------------------------------------------+\n",
            "only showing top 10 rows\n",
            "\n"
          ]
        }
      ]
    },
    {
      "cell_type": "code",
      "source": [
        "df.selectExpr(\"explode(Symptoms) as Symptom\").groupBy(\"Symptom\").count().orderBy(\"count\", ascending=False).show(10)\n"
      ],
      "metadata": {
        "id": "-sSDrFJySeXm",
        "colab": {
          "base_uri": "https://localhost:8080/"
        },
        "outputId": "7b35c5f5-6ac0-40da-9e3a-bafdd2f0be58"
      },
      "execution_count": null,
      "outputs": [
        {
          "output_type": "stream",
          "name": "stdout",
          "text": [
            "+------------------+-----+\n",
            "|           Symptom|count|\n",
            "+------------------+-----+\n",
            "|              NULL|46992|\n",
            "|           fatigue| 1932|\n",
            "|          vomiting| 1914|\n",
            "|        high_fever| 1362|\n",
            "|  loss_of_appetite| 1152|\n",
            "|            nausea| 1146|\n",
            "|          headache| 1134|\n",
            "|    abdominal_pain| 1032|\n",
            "|    yellowish_skin|  912|\n",
            "| yellowing_of_eyes|  816|\n",
            "+------------------+-----+\n",
            "only showing top 10 rows\n",
            "\n"
          ]
        }
      ]
    },
    {
      "cell_type": "code",
      "source": [
        "df_Symptoms = df.select(\"Disease\", col(\"Symptoms\").alias(\"Symptoms\"))\n",
        "df_Symptoms.show(3,False)"
      ],
      "metadata": {
        "id": "U6lNUPQBlzKd",
        "colab": {
          "base_uri": "https://localhost:8080/"
        },
        "outputId": "93679500-9bfb-4c3e-fa77-8fc72c6e4c28"
      },
      "execution_count": null,
      "outputs": [
        {
          "output_type": "stream",
          "name": "stdout",
          "text": [
            "+----------------+------------------------------------------------------------------------------------------------------------------------------------------------+\n",
            "|Disease         |Symptoms                                                                                                                                        |\n",
            "+----------------+------------------------------------------------------------------------------------------------------------------------------------------------+\n",
            "|Fungal infection|[itching,  skin_rash,  nodal_skin_eruptions,  dischromic _patches, NULL, NULL, NULL, NULL, NULL, NULL, NULL, NULL, NULL, NULL, NULL, NULL, NULL]|\n",
            "|Fungal infection|[ skin_rash,  nodal_skin_eruptions,  dischromic _patches, NULL, NULL, NULL, NULL, NULL, NULL, NULL, NULL, NULL, NULL, NULL, NULL, NULL, NULL]   |\n",
            "|Fungal infection|[itching,  nodal_skin_eruptions,  dischromic _patches, NULL, NULL, NULL, NULL, NULL, NULL, NULL, NULL, NULL, NULL, NULL, NULL, NULL, NULL]      |\n",
            "+----------------+------------------------------------------------------------------------------------------------------------------------------------------------+\n",
            "only showing top 3 rows\n",
            "\n"
          ]
        }
      ]
    },
    {
      "cell_type": "markdown",
      "source": [
        "Ref = https://www.kaggle.com/code/megan3/market-basket-analysis-using-pyspark\n"
      ],
      "metadata": {
        "id": "VunMGp5I2nRE"
      }
    },
    {
      "cell_type": "code",
      "source": [
        "df_aggregated = df_Symptoms.select(\"Disease\", array_except(\"Symptoms\", array(lit(None))).alias(\"Symptoms\"))\n",
        "df_aggregated.show(3,False)"
      ],
      "metadata": {
        "id": "TQkxfAS_vkiN",
        "colab": {
          "base_uri": "https://localhost:8080/"
        },
        "outputId": "512ee540-fefd-48b4-c733-f84490fb6e46"
      },
      "execution_count": null,
      "outputs": [
        {
          "output_type": "stream",
          "name": "stdout",
          "text": [
            "+----------------+------------------------------------------------------------------+\n",
            "|Disease         |Symptoms                                                          |\n",
            "+----------------+------------------------------------------------------------------+\n",
            "|Fungal infection|[itching,  skin_rash,  nodal_skin_eruptions,  dischromic _patches]|\n",
            "|Fungal infection|[ skin_rash,  nodal_skin_eruptions,  dischromic _patches]         |\n",
            "|Fungal infection|[itching,  nodal_skin_eruptions,  dischromic _patches]            |\n",
            "+----------------+------------------------------------------------------------------+\n",
            "only showing top 3 rows\n",
            "\n"
          ]
        }
      ]
    },
    {
      "cell_type": "code",
      "source": [
        "countDistinct(df_aggregated,\"Disease\")"
      ],
      "metadata": {
        "colab": {
          "base_uri": "https://localhost:8080/"
        },
        "outputId": "401f9847-d9f4-4d10-f155-ab97744c4f8c",
        "id": "I678E7Sz0GJ9"
      },
      "execution_count": null,
      "outputs": [
        {
          "output_type": "stream",
          "name": "stdout",
          "text": [
            "Number of unique diseases = 41\n"
          ]
        }
      ]
    },
    {
      "cell_type": "code",
      "source": [
        "model = run_fp_growth(df_aggregated, \"Symptoms\", 0.05, 0.8)\n",
        "model.associationRules.show(10, False)"
      ],
      "metadata": {
        "id": "whk8Q8XXxhH0",
        "colab": {
          "base_uri": "https://localhost:8080/"
        },
        "outputId": "11aed010-7b4c-4cba-f088-42518d9c80ad"
      },
      "execution_count": null,
      "outputs": [
        {
          "output_type": "stream",
          "name": "stdout",
          "text": [
            "+-----------------------------------------------------------------------------------------------+-------------------+------------------+------------------+--------------------+\n",
            "|antecedent                                                                                     |consequent         |confidence        |lift              |support             |\n",
            "+-----------------------------------------------------------------------------------------------+-------------------+------------------+------------------+--------------------+\n",
            "|[ chills,  headache,  fatigue]                                                                 |[ high_fever]      |0.9629629629629629|3.4785446239190727|0.06341463414634146 |\n",
            "|[ joint_pain,  yellowing_of_eyes,  nausea,  loss_of_appetite,  vomiting]                       |[ yellowish_skin]  |0.9375            |5.057565789473684 |0.054878048780487805|\n",
            "|[ joint_pain,  yellowing_of_eyes,  nausea,  loss_of_appetite,  vomiting]                       |[ abdominal_pain]  |0.9583333333333334|4.5687984496124034|0.05609756097560976 |\n",
            "|[ joint_pain,  yellowing_of_eyes,  nausea,  loss_of_appetite,  vomiting]                       |[ dark_urine]      |0.9375            |8.092105263157894 |0.054878048780487805|\n",
            "|[ joint_pain,  nausea,  vomiting,  fatigue]                                                    |[ loss_of_appetite]|0.9795918367346939|4.183673469387755 |0.05853658536585366 |\n",
            "|[ dark_urine,  yellowing_of_eyes,  yellowish_skin,  abdominal_pain,  nausea,  loss_of_appetite]|[ vomiting]        |0.9347826086956522|2.4028894643587297|0.0524390243902439  |\n",
            "|[ dark_urine,  yellowing_of_eyes,  yellowish_skin,  abdominal_pain,  nausea,  loss_of_appetite]|[ joint_pain]      |0.9347826086956522|6.723874904652936 |0.0524390243902439  |\n",
            "|[ dark_urine,  joint_pain,  yellowing_of_eyes,  yellowish_skin,  loss_of_appetite,  vomiting]  |[ nausea]          |0.9333333333333333|4.006980802792321 |0.05121951219512195 |\n",
            "|[ dark_urine,  joint_pain,  yellowing_of_eyes,  yellowish_skin,  loss_of_appetite,  vomiting]  |[ abdominal_pain]  |0.9555555555555556|4.555555555555556 |0.0524390243902439  |\n",
            "|[ joint_pain,  yellowing_of_eyes,  abdominal_pain,  nausea,  loss_of_appetite]                 |[ yellowish_skin]  |0.9387755102040817|5.064446831364125 |0.05609756097560976 |\n",
            "+-----------------------------------------------------------------------------------------------+-------------------+------------------+------------------+--------------------+\n",
            "only showing top 10 rows\n",
            "\n"
          ]
        }
      ]
    },
    {
      "cell_type": "markdown",
      "source": [
        "Now increase the minsupport and minconfidence"
      ],
      "metadata": {
        "id": "KAZUXCT2tgpD"
      }
    },
    {
      "cell_type": "code",
      "source": [
        "model = run_fp_growth(df_aggregated, \"Symptoms\", 0.06, 0.8)"
      ],
      "metadata": {
        "id": "GsvuSJ-ji_WB"
      },
      "execution_count": null,
      "outputs": []
    },
    {
      "cell_type": "markdown",
      "source": [
        "Show the association Rules"
      ],
      "metadata": {
        "id": "Xho9X6e2tnfl"
      }
    },
    {
      "cell_type": "code",
      "source": [
        "model.associationRules.show(20, False)"
      ],
      "metadata": {
        "id": "gKYT-CPqpbt4",
        "colab": {
          "base_uri": "https://localhost:8080/"
        },
        "outputId": "f843484f-b960-4db7-e64f-985a0fbd8709"
      },
      "execution_count": null,
      "outputs": [
        {
          "output_type": "stream",
          "name": "stdout",
          "text": [
            "+----------------------------------------------------------------------------+--------------------+------------------+------------------+-------------------+\n",
            "|antecedent                                                                  |consequent          |confidence        |lift              |support            |\n",
            "+----------------------------------------------------------------------------+--------------------+------------------+------------------+-------------------+\n",
            "|[ chills,  headache,  fatigue]                                              |[ high_fever]       |0.9629629629629629|3.4785446239190727|0.06341463414634146|\n",
            "|[ yellowish_skin,  abdominal_pain,  nausea,  vomiting]                      |[ yellowing_of_eyes]|0.9692307692307692|5.843891402714932 |0.07682926829268293|\n",
            "|[ yellowish_skin,  abdominal_pain,  nausea,  vomiting]                      |[ loss_of_appetite] |0.9538461538461539|4.073717948717949 |0.07560975609756097|\n",
            "|[ joint_pain,  yellowish_skin,  nausea]                                     |[ yellowing_of_eyes]|0.9803921568627451|5.911188004613609 |0.06097560975609756|\n",
            "|[itching,  abdominal_pain]                                                  |[ yellowish_skin]   |0.9444444444444444|5.095029239766082 |0.06219512195121951|\n",
            "|[ yellowing_of_eyes,  yellowish_skin,  nausea]                              |[ loss_of_appetite] |0.9534883720930233|4.07218992248062  |0.1                |\n",
            "|[ cough,  chills]                                                           |[ malaise]          |0.9629629629629629|6.748971193415638 |0.06341463414634146|\n",
            "|[ cough,  chills]                                                           |[ high_fever]       |0.9444444444444444|3.411649534997552 |0.06219512195121951|\n",
            "|[ cough,  chills]                                                           |[ fatigue]          |0.9444444444444444|2.4051069703243613|0.06219512195121951|\n",
            "|[ cough,  chills]                                                           |[ chest_pain]       |1.0               |7.06896551724138  |0.06585365853658537|\n",
            "|[ cough,  chills]                                                           |[ phlegm]           |0.9814814814814815|13.640929064657879|0.06463414634146342|\n",
            "|[ yellowing_of_eyes,  abdominal_pain,  nausea,  loss_of_appetite,  vomiting]|[ yellowish_skin]   |0.9375            |5.057565789473684 |0.07317073170731707|\n",
            "|[ chest_pain,  chills,  fatigue]                                            |[ cough]            |0.9444444444444444|8.238770685579196 |0.06219512195121951|\n",
            "|[ chest_pain,  chills,  fatigue]                                            |[ phlegm]           |0.9814814814814815|13.640929064657879|0.06463414634146342|\n",
            "|[ chest_pain,  chills,  fatigue]                                            |[ malaise]          |0.9629629629629629|6.748971193415638 |0.06341463414634146|\n",
            "|[ chest_pain,  chills,  fatigue]                                            |[ high_fever]       |0.9444444444444444|3.411649534997552 |0.06219512195121951|\n",
            "|[ phlegm,  cough,  malaise,  chills]                                        |[ chest_pain]       |1.0               |7.06896551724138  |0.06219512195121951|\n",
            "|[ phlegm,  cough,  fatigue]                                                 |[ malaise]          |0.9622641509433962|6.7440735365263675|0.06219512195121951|\n",
            "|[ phlegm,  cough,  fatigue]                                                 |[ high_fever]       |0.9433962264150944|3.4078630205302964|0.06097560975609756|\n",
            "|[ phlegm,  cough,  fatigue]                                                 |[ chills]           |0.9433962264150944|5.8164278621081005|0.06097560975609756|\n",
            "+----------------------------------------------------------------------------+--------------------+------------------+------------------+-------------------+\n",
            "only showing top 20 rows\n",
            "\n"
          ]
        }
      ]
    },
    {
      "cell_type": "markdown",
      "source": [
        "Check that prediction is not empty and show 100 results where there is only one prediction given\n"
      ],
      "metadata": {
        "id": "1tRZHwVWb1qs"
      }
    },
    {
      "cell_type": "code",
      "source": [
        "FilterdOnePrediction = model.transform(df_aggregated).filter(size(col(\"Prediction\")) == 1)\n",
        "FilterdOnePrediction.show(50, False)"
      ],
      "metadata": {
        "colab": {
          "base_uri": "https://localhost:8080/"
        },
        "id": "npAitgGkPIW5",
        "outputId": "e1669580-0a1b-469b-d60d-f8c4d3651034"
      },
      "execution_count": null,
      "outputs": [
        {
          "output_type": "stream",
          "name": "stdout",
          "text": [
            "+----------------------------+-----------------------------------------------------------------------------------------------------------------------------------------------------------------------------------+--------------------+\n",
            "|Disease                     |Symptoms                                                                                                                                                                           |prediction          |\n",
            "+----------------------------+-----------------------------------------------------------------------------------------------------------------------------------------------------------------------------------+--------------------+\n",
            "|Allergy                     |[ continuous_sneezing,  shivering,  chills,  watering_from_eyes]                                                                                                                   |[ high_fever]       |\n",
            "|Allergy                     |[ shivering,  chills,  watering_from_eyes]                                                                                                                                         |[ high_fever]       |\n",
            "|Allergy                     |[ continuous_sneezing,  chills,  watering_from_eyes]                                                                                                                               |[ high_fever]       |\n",
            "|Allergy                     |[ continuous_sneezing,  shivering,  chills]                                                                                                                                        |[ high_fever]       |\n",
            "|Allergy                     |[ shivering,  chills,  watering_from_eyes]                                                                                                                                         |[ high_fever]       |\n",
            "|Allergy                     |[ continuous_sneezing,  chills,  watering_from_eyes]                                                                                                                               |[ high_fever]       |\n",
            "|Allergy                     |[ continuous_sneezing,  shivering,  chills]                                                                                                                                        |[ high_fever]       |\n",
            "|Allergy                     |[ continuous_sneezing,  shivering,  chills,  watering_from_eyes]                                                                                                                   |[ high_fever]       |\n",
            "|Chronic cholestasis         |[itching,  yellowish_skin,  nausea,  loss_of_appetite,  abdominal_pain,  yellowing_of_eyes]                                                                                        |[ vomiting]         |\n",
            "|Chronic cholestasis         |[itching,  vomiting,  nausea,  loss_of_appetite,  abdominal_pain,  yellowing_of_eyes]                                                                                              |[ yellowish_skin]   |\n",
            "|Chronic cholestasis         |[itching,  vomiting,  yellowish_skin,  loss_of_appetite,  abdominal_pain,  yellowing_of_eyes]                                                                                      |[ nausea]           |\n",
            "|Chronic cholestasis         |[itching,  vomiting,  yellowish_skin,  nausea,  abdominal_pain,  yellowing_of_eyes]                                                                                                |[ loss_of_appetite] |\n",
            "|Chronic cholestasis         |[itching,  vomiting,  yellowish_skin,  nausea,  loss_of_appetite,  yellowing_of_eyes]                                                                                              |[ abdominal_pain]   |\n",
            "|Chronic cholestasis         |[itching,  vomiting,  yellowish_skin,  nausea,  loss_of_appetite,  abdominal_pain]                                                                                                 |[ yellowing_of_eyes]|\n",
            "|Peptic ulcer diseae         |[ vomiting,  loss_of_appetite,  abdominal_pain,  passage_of_gases,  internal_itching]                                                                                              |[ yellowing_of_eyes]|\n",
            "|Peptic ulcer diseae         |[ vomiting,  loss_of_appetite,  abdominal_pain,  passage_of_gases,  internal_itching]                                                                                              |[ yellowing_of_eyes]|\n",
            "|Peptic ulcer diseae         |[ vomiting,  indigestion,  loss_of_appetite,  abdominal_pain,  internal_itching]                                                                                                   |[ yellowing_of_eyes]|\n",
            "|Peptic ulcer diseae         |[ vomiting,  indigestion,  loss_of_appetite,  abdominal_pain,  passage_of_gases]                                                                                                   |[ yellowing_of_eyes]|\n",
            "|Peptic ulcer diseae         |[ vomiting,  indigestion,  loss_of_appetite,  abdominal_pain,  passage_of_gases,  internal_itching]                                                                                |[ yellowing_of_eyes]|\n",
            "|Peptic ulcer diseae         |[ vomiting,  indigestion,  loss_of_appetite,  abdominal_pain,  passage_of_gases,  internal_itching]                                                                                |[ yellowing_of_eyes]|\n",
            "|Diabetes                    |[ weight_loss,  restlessness,  lethargy,  irregular_sugar_level,  blurred_and_distorted_vision,  obesity,  excessive_hunger,  increased_appetite,  polyuria]                       |[ fatigue]          |\n",
            "|Diabetes                    |[ fatigue,  weight_loss,  restlessness,  lethargy,  irregular_sugar_level,  blurred_and_distorted_vision,  obesity,  increased_appetite,  polyuria]                                |[ excessive_hunger] |\n",
            "|Bronchial Asthma            |[ cough,  high_fever,  breathlessness,  family_history,  mucoid_sputum]                                                                                                            |[ fatigue]          |\n",
            "|Bronchial Asthma            |[ fatigue,  high_fever,  breathlessness,  family_history,  mucoid_sputum]                                                                                                          |[ cough]            |\n",
            "|Bronchial Asthma            |[ fatigue,  cough,  breathlessness,  family_history,  mucoid_sputum]                                                                                                               |[ high_fever]       |\n",
            "|Bronchial Asthma            |[ cough,  high_fever,  breathlessness,  family_history,  mucoid_sputum]                                                                                                            |[ fatigue]          |\n",
            "|Bronchial Asthma            |[ fatigue,  high_fever,  breathlessness,  family_history,  mucoid_sputum]                                                                                                          |[ cough]            |\n",
            "|Migraine                    |[ acidity,  indigestion,  headache,  blurred_and_distorted_vision,  stiff_neck,  depression,  irritability,  visual_disturbances]                                                  |[ excessive_hunger] |\n",
            "|Paralysis (brain hemorrhage)|[ vomiting,  headache,  weakness_of_one_body_side,  altered_sensorium]                                                                                                             |[ nausea]           |\n",
            "|Paralysis (brain hemorrhage)|[ vomiting,  headache,  weakness_of_one_body_side,  altered_sensorium]                                                                                                             |[ nausea]           |\n",
            "|Paralysis (brain hemorrhage)|[ vomiting,  headache,  altered_sensorium]                                                                                                                                         |[ nausea]           |\n",
            "|Paralysis (brain hemorrhage)|[ vomiting,  headache,  weakness_of_one_body_side]                                                                                                                                 |[ nausea]           |\n",
            "|Paralysis (brain hemorrhage)|[ vomiting,  headache,  weakness_of_one_body_side,  altered_sensorium]                                                                                                             |[ nausea]           |\n",
            "|Paralysis (brain hemorrhage)|[ vomiting,  headache,  altered_sensorium]                                                                                                                                         |[ nausea]           |\n",
            "|Jaundice                    |[itching,  fatigue,  weight_loss,  high_fever,  yellowish_skin,  dark_urine,  abdominal_pain]                                                                                      |[ vomiting]         |\n",
            "|Jaundice                    |[itching,  vomiting,  weight_loss,  high_fever,  yellowish_skin,  dark_urine,  abdominal_pain]                                                                                     |[ fatigue]          |\n",
            "|Jaundice                    |[itching,  vomiting,  fatigue,  weight_loss,  high_fever,  dark_urine,  abdominal_pain]                                                                                            |[ yellowish_skin]   |\n",
            "|Jaundice                    |[itching,  vomiting,  fatigue,  weight_loss,  high_fever,  yellowish_skin,  abdominal_pain]                                                                                        |[ dark_urine]       |\n",
            "|Jaundice                    |[itching,  vomiting,  fatigue,  weight_loss,  high_fever,  yellowish_skin,  dark_urine]                                                                                            |[ abdominal_pain]   |\n",
            "|Malaria                     |[ chills,  vomiting,  high_fever,  sweating,  headache,  nausea,  muscle_pain]                                                                                                     |[ fatigue]          |\n",
            "|Malaria                     |[ chills,  vomiting,  high_fever,  sweating,  headache,  nausea,  diarrhoea,  muscle_pain]                                                                                         |[ fatigue]          |\n",
            "|Malaria                     |[ chills,  vomiting,  high_fever,  sweating,  headache,  nausea,  diarrhoea,  muscle_pain]                                                                                         |[ fatigue]          |\n",
            "|Malaria                     |[ vomiting,  high_fever,  sweating,  headache,  nausea,  diarrhoea,  muscle_pain]                                                                                                  |[ chills]           |\n",
            "|Malaria                     |[ chills,  vomiting,  sweating,  headache,  nausea,  diarrhoea,  muscle_pain]                                                                                                      |[ high_fever]       |\n",
            "|Malaria                     |[ chills,  vomiting,  high_fever,  headache,  nausea,  diarrhoea,  muscle_pain]                                                                                                    |[ fatigue]          |\n",
            "|Malaria                     |[ chills,  vomiting,  high_fever,  sweating,  headache,  nausea,  muscle_pain]                                                                                                     |[ fatigue]          |\n",
            "|Chicken pox                 |[itching,  skin_rash,  lethargy,  high_fever,  headache,  loss_of_appetite,  mild_fever,  swelled_lymph_nodes,  malaise,  red_spots_over_body]                                     |[ fatigue]          |\n",
            "|Chicken pox                 |[itching,  skin_rash,  fatigue,  lethargy,  headache,  loss_of_appetite,  mild_fever,  swelled_lymph_nodes,  malaise,  red_spots_over_body]                                        |[ high_fever]       |\n",
            "|Chicken pox                 |[itching,  skin_rash,  fatigue,  lethargy,  high_fever,  headache,  mild_fever,  swelled_lymph_nodes,  malaise,  red_spots_over_body]                                              |[ loss_of_appetite] |\n",
            "|Dengue                      |[ skin_rash,  joint_pain,  vomiting,  fatigue,  high_fever,  headache,  nausea,  loss_of_appetite,  pain_behind_the_eyes,  back_pain,  malaise,  muscle_pain,  red_spots_over_body]|[ chills]           |\n",
            "+----------------------------+-----------------------------------------------------------------------------------------------------------------------------------------------------------------------------------+--------------------+\n",
            "only showing top 50 rows\n",
            "\n"
          ]
        }
      ]
    },
    {
      "cell_type": "code",
      "source": [
        "filterd = model.transform(df_aggregated).filter(size(col(\"Prediction\")) > 0 )\n",
        "filterd.show(400, False)"
      ],
      "metadata": {
        "colab": {
          "base_uri": "https://localhost:8080/"
        },
        "id": "o5HKW5QIcoK_",
        "outputId": "e3230671-3962-47d7-d884-c09c1e9a3b9e"
      },
      "execution_count": null,
      "outputs": [
        {
          "output_type": "stream",
          "name": "stdout",
          "text": [
            "+---------------------------------------+--------------------------------------------------------------------------------------------------------------------------------------------------------------------------------------------------------------------------------------+------------------------------------------------+\n",
            "|Disease                                |Symptoms                                                                                                                                                                                                                              |prediction                                      |\n",
            "+---------------------------------------+--------------------------------------------------------------------------------------------------------------------------------------------------------------------------------------------------------------------------------------+------------------------------------------------+\n",
            "|Allergy                                |[ continuous_sneezing,  shivering,  chills,  watering_from_eyes]                                                                                                                                                                      |[ high_fever]                                   |\n",
            "|Allergy                                |[ shivering,  chills,  watering_from_eyes]                                                                                                                                                                                            |[ high_fever]                                   |\n",
            "|Allergy                                |[ continuous_sneezing,  chills,  watering_from_eyes]                                                                                                                                                                                  |[ high_fever]                                   |\n",
            "|Allergy                                |[ continuous_sneezing,  shivering,  chills]                                                                                                                                                                                           |[ high_fever]                                   |\n",
            "|Allergy                                |[ shivering,  chills,  watering_from_eyes]                                                                                                                                                                                            |[ high_fever]                                   |\n",
            "|Allergy                                |[ continuous_sneezing,  chills,  watering_from_eyes]                                                                                                                                                                                  |[ high_fever]                                   |\n",
            "|Allergy                                |[ continuous_sneezing,  shivering,  chills]                                                                                                                                                                                           |[ high_fever]                                   |\n",
            "|Allergy                                |[ continuous_sneezing,  shivering,  chills,  watering_from_eyes]                                                                                                                                                                      |[ high_fever]                                   |\n",
            "|Chronic cholestasis                    |[itching,  yellowish_skin,  nausea,  loss_of_appetite,  abdominal_pain,  yellowing_of_eyes]                                                                                                                                           |[ vomiting]                                     |\n",
            "|Chronic cholestasis                    |[itching,  vomiting,  nausea,  loss_of_appetite,  abdominal_pain,  yellowing_of_eyes]                                                                                                                                                 |[ yellowish_skin]                               |\n",
            "|Chronic cholestasis                    |[itching,  vomiting,  yellowish_skin,  loss_of_appetite,  abdominal_pain,  yellowing_of_eyes]                                                                                                                                         |[ nausea]                                       |\n",
            "|Chronic cholestasis                    |[itching,  vomiting,  yellowish_skin,  nausea,  abdominal_pain,  yellowing_of_eyes]                                                                                                                                                   |[ loss_of_appetite]                             |\n",
            "|Chronic cholestasis                    |[itching,  vomiting,  yellowish_skin,  nausea,  loss_of_appetite,  yellowing_of_eyes]                                                                                                                                                 |[ abdominal_pain]                               |\n",
            "|Chronic cholestasis                    |[itching,  vomiting,  yellowish_skin,  nausea,  loss_of_appetite,  abdominal_pain]                                                                                                                                                    |[ yellowing_of_eyes]                            |\n",
            "|Peptic ulcer diseae                    |[ vomiting,  loss_of_appetite,  abdominal_pain,  passage_of_gases,  internal_itching]                                                                                                                                                 |[ yellowing_of_eyes]                            |\n",
            "|Peptic ulcer diseae                    |[ indigestion,  loss_of_appetite,  abdominal_pain,  passage_of_gases,  internal_itching]                                                                                                                                              |[ vomiting,  yellowing_of_eyes]                 |\n",
            "|Peptic ulcer diseae                    |[ vomiting,  loss_of_appetite,  abdominal_pain,  passage_of_gases,  internal_itching]                                                                                                                                                 |[ yellowing_of_eyes]                            |\n",
            "|Peptic ulcer diseae                    |[ vomiting,  indigestion,  loss_of_appetite,  abdominal_pain,  internal_itching]                                                                                                                                                      |[ yellowing_of_eyes]                            |\n",
            "|Peptic ulcer diseae                    |[ vomiting,  indigestion,  loss_of_appetite,  abdominal_pain,  passage_of_gases]                                                                                                                                                      |[ yellowing_of_eyes]                            |\n",
            "|Peptic ulcer diseae                    |[ vomiting,  indigestion,  loss_of_appetite,  abdominal_pain,  passage_of_gases,  internal_itching]                                                                                                                                   |[ yellowing_of_eyes]                            |\n",
            "|Peptic ulcer diseae                    |[ vomiting,  indigestion,  loss_of_appetite,  abdominal_pain,  passage_of_gases,  internal_itching]                                                                                                                                   |[ yellowing_of_eyes]                            |\n",
            "|Diabetes                               |[ weight_loss,  restlessness,  lethargy,  irregular_sugar_level,  blurred_and_distorted_vision,  obesity,  excessive_hunger,  increased_appetite,  polyuria]                                                                          |[ fatigue]                                      |\n",
            "|Diabetes                               |[ fatigue,  weight_loss,  restlessness,  lethargy,  irregular_sugar_level,  blurred_and_distorted_vision,  obesity,  increased_appetite,  polyuria]                                                                                   |[ excessive_hunger]                             |\n",
            "|Bronchial Asthma                       |[ cough,  high_fever,  breathlessness,  family_history,  mucoid_sputum]                                                                                                                                                               |[ fatigue]                                      |\n",
            "|Bronchial Asthma                       |[ fatigue,  high_fever,  breathlessness,  family_history,  mucoid_sputum]                                                                                                                                                             |[ cough]                                        |\n",
            "|Bronchial Asthma                       |[ fatigue,  cough,  breathlessness,  family_history,  mucoid_sputum]                                                                                                                                                                  |[ high_fever]                                   |\n",
            "|Bronchial Asthma                       |[ cough,  high_fever,  breathlessness,  family_history,  mucoid_sputum]                                                                                                                                                               |[ fatigue]                                      |\n",
            "|Bronchial Asthma                       |[ fatigue,  high_fever,  breathlessness,  family_history,  mucoid_sputum]                                                                                                                                                             |[ cough]                                        |\n",
            "|Migraine                               |[ acidity,  indigestion,  headache,  blurred_and_distorted_vision,  stiff_neck,  depression,  irritability,  visual_disturbances]                                                                                                     |[ excessive_hunger]                             |\n",
            "|Paralysis (brain hemorrhage)           |[ vomiting,  headache,  weakness_of_one_body_side,  altered_sensorium]                                                                                                                                                                |[ nausea]                                       |\n",
            "|Paralysis (brain hemorrhage)           |[ vomiting,  headache,  weakness_of_one_body_side,  altered_sensorium]                                                                                                                                                                |[ nausea]                                       |\n",
            "|Paralysis (brain hemorrhage)           |[ vomiting,  headache,  altered_sensorium]                                                                                                                                                                                            |[ nausea]                                       |\n",
            "|Paralysis (brain hemorrhage)           |[ vomiting,  headache,  weakness_of_one_body_side]                                                                                                                                                                                    |[ nausea]                                       |\n",
            "|Paralysis (brain hemorrhage)           |[ vomiting,  headache,  weakness_of_one_body_side,  altered_sensorium]                                                                                                                                                                |[ nausea]                                       |\n",
            "|Paralysis (brain hemorrhage)           |[ vomiting,  headache,  altered_sensorium]                                                                                                                                                                                            |[ nausea]                                       |\n",
            "|Jaundice                               |[itching,  fatigue,  weight_loss,  high_fever,  yellowish_skin,  dark_urine,  abdominal_pain]                                                                                                                                         |[ vomiting]                                     |\n",
            "|Jaundice                               |[itching,  vomiting,  weight_loss,  high_fever,  yellowish_skin,  dark_urine,  abdominal_pain]                                                                                                                                        |[ fatigue]                                      |\n",
            "|Jaundice                               |[itching,  vomiting,  fatigue,  weight_loss,  high_fever,  dark_urine,  abdominal_pain]                                                                                                                                               |[ yellowish_skin]                               |\n",
            "|Jaundice                               |[itching,  vomiting,  fatigue,  weight_loss,  high_fever,  yellowish_skin,  abdominal_pain]                                                                                                                                           |[ dark_urine]                                   |\n",
            "|Jaundice                               |[itching,  vomiting,  fatigue,  weight_loss,  high_fever,  yellowish_skin,  dark_urine]                                                                                                                                               |[ abdominal_pain]                               |\n",
            "|Malaria                                |[ chills,  vomiting,  high_fever,  sweating,  headache,  nausea,  muscle_pain]                                                                                                                                                        |[ fatigue]                                      |\n",
            "|Malaria                                |[ chills,  vomiting,  high_fever,  sweating,  headache,  nausea,  diarrhoea,  muscle_pain]                                                                                                                                            |[ fatigue]                                      |\n",
            "|Malaria                                |[ chills,  vomiting,  high_fever,  sweating,  headache,  nausea,  diarrhoea,  muscle_pain]                                                                                                                                            |[ fatigue]                                      |\n",
            "|Malaria                                |[ vomiting,  high_fever,  sweating,  headache,  nausea,  diarrhoea,  muscle_pain]                                                                                                                                                     |[ chills]                                       |\n",
            "|Malaria                                |[ chills,  high_fever,  sweating,  headache,  nausea,  diarrhoea,  muscle_pain]                                                                                                                                                       |[ vomiting,  fatigue]                           |\n",
            "|Malaria                                |[ chills,  vomiting,  sweating,  headache,  nausea,  diarrhoea,  muscle_pain]                                                                                                                                                         |[ high_fever]                                   |\n",
            "|Malaria                                |[ chills,  vomiting,  high_fever,  headache,  nausea,  diarrhoea,  muscle_pain]                                                                                                                                                       |[ fatigue]                                      |\n",
            "|Malaria                                |[ chills,  vomiting,  high_fever,  sweating,  nausea,  diarrhoea,  muscle_pain]                                                                                                                                                       |[ headache,  fatigue]                           |\n",
            "|Malaria                                |[ chills,  vomiting,  high_fever,  sweating,  headache,  diarrhoea,  muscle_pain]                                                                                                                                                     |[ nausea,  fatigue]                             |\n",
            "|Malaria                                |[ chills,  vomiting,  high_fever,  sweating,  headache,  nausea,  muscle_pain]                                                                                                                                                        |[ fatigue]                                      |\n",
            "|Chicken pox                            |[itching,  skin_rash,  lethargy,  high_fever,  headache,  loss_of_appetite,  mild_fever,  swelled_lymph_nodes,  malaise,  red_spots_over_body]                                                                                        |[ fatigue]                                      |\n",
            "|Chicken pox                            |[itching,  skin_rash,  fatigue,  lethargy,  headache,  loss_of_appetite,  mild_fever,  swelled_lymph_nodes,  malaise,  red_spots_over_body]                                                                                           |[ high_fever]                                   |\n",
            "|Chicken pox                            |[itching,  skin_rash,  fatigue,  lethargy,  high_fever,  headache,  mild_fever,  swelled_lymph_nodes,  malaise,  red_spots_over_body]                                                                                                 |[ loss_of_appetite]                             |\n",
            "|Dengue                                 |[ skin_rash,  joint_pain,  vomiting,  fatigue,  high_fever,  headache,  nausea,  loss_of_appetite,  pain_behind_the_eyes,  back_pain,  malaise,  muscle_pain,  red_spots_over_body]                                                   |[ chills]                                       |\n",
            "|Dengue                                 |[ skin_rash,  chills,  joint_pain,  fatigue,  high_fever,  headache,  nausea,  loss_of_appetite,  pain_behind_the_eyes,  back_pain,  malaise,  muscle_pain,  red_spots_over_body]                                                     |[ vomiting]                                     |\n",
            "|Dengue                                 |[ skin_rash,  chills,  joint_pain,  vomiting,  high_fever,  headache,  nausea,  loss_of_appetite,  pain_behind_the_eyes,  back_pain,  malaise,  muscle_pain,  red_spots_over_body]                                                    |[ fatigue]                                      |\n",
            "|Dengue                                 |[ skin_rash,  chills,  joint_pain,  vomiting,  fatigue,  headache,  nausea,  loss_of_appetite,  pain_behind_the_eyes,  back_pain,  malaise,  muscle_pain,  red_spots_over_body]                                                       |[ high_fever]                                   |\n",
            "|Typhoid                                |[ chills,  vomiting,  fatigue,  high_fever,  nausea,  constipation,  abdominal_pain,  diarrhoea,  toxic_look_(typhos),  belly_pain]                                                                                                   |[ headache]                                     |\n",
            "|Typhoid                                |[ chills,  vomiting,  fatigue,  high_fever,  headache,  constipation,  abdominal_pain,  diarrhoea,  toxic_look_(typhos),  belly_pain]                                                                                                 |[ nausea]                                       |\n",
            "|Typhoid                                |[ chills,  fatigue,  high_fever,  headache,  nausea,  constipation,  abdominal_pain,  diarrhoea,  toxic_look_(typhos),  belly_pain]                                                                                                   |[ vomiting]                                     |\n",
            "|hepatitis A                            |[ vomiting,  yellowish_skin,  dark_urine,  nausea,  loss_of_appetite,  abdominal_pain,  diarrhoea,  mild_fever,  yellowing_of_eyes,  muscle_pain]                                                                                     |[ joint_pain]                                   |\n",
            "|hepatitis A                            |[ joint_pain,  yellowish_skin,  dark_urine,  nausea,  loss_of_appetite,  abdominal_pain,  diarrhoea,  mild_fever,  yellowing_of_eyes,  muscle_pain]                                                                                   |[ vomiting]                                     |\n",
            "|hepatitis A                            |[ joint_pain,  vomiting,  dark_urine,  nausea,  loss_of_appetite,  abdominal_pain,  diarrhoea,  mild_fever,  yellowing_of_eyes,  muscle_pain]                                                                                         |[ yellowish_skin]                               |\n",
            "|hepatitis A                            |[ joint_pain,  vomiting,  yellowish_skin,  nausea,  loss_of_appetite,  abdominal_pain,  diarrhoea,  mild_fever,  yellowing_of_eyes,  muscle_pain]                                                                                     |[ dark_urine]                                   |\n",
            "|hepatitis A                            |[ joint_pain,  vomiting,  yellowish_skin,  dark_urine,  loss_of_appetite,  abdominal_pain,  diarrhoea,  mild_fever,  yellowing_of_eyes,  muscle_pain]                                                                                 |[ nausea]                                       |\n",
            "|hepatitis A                            |[ joint_pain,  vomiting,  yellowish_skin,  dark_urine,  nausea,  abdominal_pain,  diarrhoea,  mild_fever,  yellowing_of_eyes,  muscle_pain]                                                                                           |[ loss_of_appetite]                             |\n",
            "|hepatitis A                            |[ joint_pain,  vomiting,  yellowish_skin,  dark_urine,  nausea,  loss_of_appetite,  diarrhoea,  mild_fever,  yellowing_of_eyes,  muscle_pain]                                                                                         |[ abdominal_pain]                               |\n",
            "|Hepatitis B                            |[itching,  fatigue,  lethargy,  yellowish_skin,  dark_urine,  loss_of_appetite,  abdominal_pain,  yellow_urine,  yellowing_of_eyes,  malaise,  receiving_blood_transfusion,  receiving_unsterile_injections]                          |[ vomiting]                                     |\n",
            "|Hepatitis B                            |[itching,  fatigue,  lethargy,  yellowish_skin,  dark_urine,  loss_of_appetite,  abdominal_pain,  yellow_urine,  yellowing_of_eyes,  malaise,  receiving_blood_transfusion,  receiving_unsterile_injections]                          |[ vomiting]                                     |\n",
            "|Hepatitis B                            |[ fatigue,  lethargy,  yellowish_skin,  dark_urine,  loss_of_appetite,  abdominal_pain,  yellow_urine,  yellowing_of_eyes,  malaise,  receiving_blood_transfusion,  receiving_unsterile_injections]                                   |[ vomiting]                                     |\n",
            "|Hepatitis B                            |[itching,  lethargy,  yellowish_skin,  dark_urine,  loss_of_appetite,  abdominal_pain,  yellow_urine,  yellowing_of_eyes,  malaise,  receiving_blood_transfusion,  receiving_unsterile_injections]                                    |[ fatigue,  vomiting]                           |\n",
            "|Hepatitis B                            |[itching,  fatigue,  yellowish_skin,  dark_urine,  loss_of_appetite,  abdominal_pain,  yellow_urine,  yellowing_of_eyes,  malaise,  receiving_blood_transfusion,  receiving_unsterile_injections]                                     |[ vomiting]                                     |\n",
            "|Hepatitis B                            |[itching,  fatigue,  lethargy,  dark_urine,  loss_of_appetite,  abdominal_pain,  yellow_urine,  yellowing_of_eyes,  malaise,  receiving_blood_transfusion,  receiving_unsterile_injections]                                           |[ yellowish_skin,  vomiting]                    |\n",
            "|Hepatitis B                            |[itching,  fatigue,  lethargy,  yellowish_skin,  loss_of_appetite,  abdominal_pain,  yellow_urine,  yellowing_of_eyes,  malaise,  receiving_blood_transfusion,  receiving_unsterile_injections]                                       |[ dark_urine,  vomiting]                        |\n",
            "|Hepatitis B                            |[itching,  fatigue,  lethargy,  yellowish_skin,  dark_urine,  abdominal_pain,  yellow_urine,  yellowing_of_eyes,  malaise,  receiving_blood_transfusion,  receiving_unsterile_injections]                                             |[ loss_of_appetite,  vomiting]                  |\n",
            "|Hepatitis B                            |[itching,  fatigue,  lethargy,  yellowish_skin,  dark_urine,  loss_of_appetite,  yellow_urine,  yellowing_of_eyes,  malaise,  receiving_blood_transfusion,  receiving_unsterile_injections]                                           |[ abdominal_pain]                               |\n",
            "|Hepatitis B                            |[itching,  fatigue,  lethargy,  yellowish_skin,  dark_urine,  loss_of_appetite,  abdominal_pain,  yellowing_of_eyes,  malaise,  receiving_blood_transfusion,  receiving_unsterile_injections]                                         |[ vomiting]                                     |\n",
            "|Hepatitis C                            |[ fatigue,  yellowish_skin,  nausea,  loss_of_appetite,  family_history]                                                                                                                                                              |[ yellowing_of_eyes,  vomiting,  abdominal_pain]|\n",
            "|Hepatitis C                            |[ fatigue,  yellowish_skin,  nausea,  loss_of_appetite,  yellowing_of_eyes,  family_history]                                                                                                                                          |[ abdominal_pain,  vomiting]                    |\n",
            "|Hepatitis C                            |[ yellowish_skin,  nausea,  loss_of_appetite,  yellowing_of_eyes,  family_history]                                                                                                                                                    |[ abdominal_pain,  vomiting]                    |\n",
            "|Hepatitis C                            |[ fatigue,  nausea,  loss_of_appetite,  yellowing_of_eyes,  family_history]                                                                                                                                                           |[ yellowish_skin,  vomiting]                    |\n",
            "|Hepatitis C                            |[ fatigue,  yellowish_skin,  loss_of_appetite,  yellowing_of_eyes,  family_history]                                                                                                                                                   |[ abdominal_pain]                               |\n",
            "|Hepatitis C                            |[ fatigue,  yellowish_skin,  nausea,  yellowing_of_eyes,  family_history]                                                                                                                                                             |[ loss_of_appetite,  abdominal_pain,  vomiting] |\n",
            "|Hepatitis C                            |[ fatigue,  yellowish_skin,  nausea,  loss_of_appetite,  family_history]                                                                                                                                                              |[ yellowing_of_eyes,  vomiting,  abdominal_pain]|\n",
            "|Hepatitis C                            |[ fatigue,  yellowish_skin,  nausea,  loss_of_appetite,  yellowing_of_eyes]                                                                                                                                                           |[ abdominal_pain,  vomiting]                    |\n",
            "|Hepatitis C                            |[ fatigue,  yellowish_skin,  nausea,  loss_of_appetite,  yellowing_of_eyes,  family_history]                                                                                                                                          |[ abdominal_pain,  vomiting]                    |\n",
            "|Hepatitis C                            |[ fatigue,  yellowish_skin,  nausea,  loss_of_appetite,  yellowing_of_eyes,  family_history]                                                                                                                                          |[ abdominal_pain,  vomiting]                    |\n",
            "|Hepatitis D                            |[ vomiting,  fatigue,  yellowish_skin,  dark_urine,  nausea,  loss_of_appetite,  abdominal_pain,  yellowing_of_eyes]                                                                                                                  |[ joint_pain]                                   |\n",
            "|Hepatitis D                            |[ joint_pain,  fatigue,  yellowish_skin,  dark_urine,  nausea,  loss_of_appetite,  abdominal_pain,  yellowing_of_eyes]                                                                                                                |[ vomiting]                                     |\n",
            "|Hepatitis D                            |[ joint_pain,  vomiting,  fatigue,  dark_urine,  nausea,  loss_of_appetite,  abdominal_pain,  yellowing_of_eyes]                                                                                                                      |[ yellowish_skin]                               |\n",
            "|Hepatitis D                            |[ joint_pain,  vomiting,  fatigue,  yellowish_skin,  nausea,  loss_of_appetite,  abdominal_pain,  yellowing_of_eyes]                                                                                                                  |[ dark_urine]                                   |\n",
            "|Hepatitis D                            |[ joint_pain,  vomiting,  fatigue,  yellowish_skin,  dark_urine,  loss_of_appetite,  abdominal_pain,  yellowing_of_eyes]                                                                                                              |[ nausea]                                       |\n",
            "|Hepatitis D                            |[ joint_pain,  vomiting,  fatigue,  yellowish_skin,  dark_urine,  nausea,  abdominal_pain,  yellowing_of_eyes]                                                                                                                        |[ loss_of_appetite]                             |\n",
            "|Hepatitis D                            |[ joint_pain,  vomiting,  fatigue,  yellowish_skin,  dark_urine,  nausea,  loss_of_appetite,  yellowing_of_eyes]                                                                                                                      |[ abdominal_pain]                               |\n",
            "|Hepatitis D                            |[ joint_pain,  vomiting,  fatigue,  yellowish_skin,  dark_urine,  nausea,  loss_of_appetite,  abdominal_pain]                                                                                                                         |[ yellowing_of_eyes]                            |\n",
            "|Hepatitis E                            |[ vomiting,  fatigue,  high_fever,  yellowish_skin,  dark_urine,  nausea,  loss_of_appetite,  abdominal_pain,  yellowing_of_eyes,  acute_liver_failure,  coma,  stomach_bleeding]                                                     |[ joint_pain]                                   |\n",
            "|Hepatitis E                            |[ joint_pain,  fatigue,  high_fever,  yellowish_skin,  dark_urine,  nausea,  loss_of_appetite,  abdominal_pain,  yellowing_of_eyes,  acute_liver_failure,  coma,  stomach_bleeding]                                                   |[ vomiting]                                     |\n",
            "|Hepatitis E                            |[ joint_pain,  vomiting,  high_fever,  yellowish_skin,  dark_urine,  nausea,  loss_of_appetite,  abdominal_pain,  yellowing_of_eyes,  acute_liver_failure,  coma,  stomach_bleeding]                                                  |[ fatigue]                                      |\n",
            "|Hepatitis E                            |[ joint_pain,  vomiting,  fatigue,  high_fever,  dark_urine,  nausea,  loss_of_appetite,  abdominal_pain,  yellowing_of_eyes,  acute_liver_failure,  coma,  stomach_bleeding]                                                         |[ yellowish_skin]                               |\n",
            "|Hepatitis E                            |[ joint_pain,  vomiting,  fatigue,  high_fever,  yellowish_skin,  nausea,  loss_of_appetite,  abdominal_pain,  yellowing_of_eyes,  acute_liver_failure,  coma,  stomach_bleeding]                                                     |[ dark_urine]                                   |\n",
            "|Hepatitis E                            |[ joint_pain,  vomiting,  fatigue,  high_fever,  yellowish_skin,  dark_urine,  loss_of_appetite,  abdominal_pain,  yellowing_of_eyes,  acute_liver_failure,  coma,  stomach_bleeding]                                                 |[ nausea]                                       |\n",
            "|Alcoholic hepatitis                    |[ yellowish_skin,  abdominal_pain,  swelling_of_stomach,  distention_of_abdomen,  history_of_alcohol_consumption,  fluid_overload]                                                                                                    |[ vomiting]                                     |\n",
            "|Alcoholic hepatitis                    |[ vomiting,  yellowish_skin,  swelling_of_stomach,  distention_of_abdomen,  history_of_alcohol_consumption,  fluid_overload]                                                                                                          |[ abdominal_pain]                               |\n",
            "|Tuberculosis                           |[ chills,  vomiting,  fatigue,  weight_loss,  cough,  high_fever,  breathlessness,  sweating,  loss_of_appetite,  mild_fever,  yellowing_of_eyes,  swelled_lymph_nodes,  malaise,  phlegm,  chest_pain,  blood_in_sputum]             |[ yellowish_skin]                               |\n",
            "|Tuberculosis                           |[ chills,  vomiting,  fatigue,  weight_loss,  cough,  high_fever,  breathlessness,  sweating,  loss_of_appetite,  mild_fever,  yellowing_of_eyes,  swelled_lymph_nodes,  malaise,  phlegm,  chest_pain,  blood_in_sputum]             |[ yellowish_skin]                               |\n",
            "|Tuberculosis                           |[ vomiting,  fatigue,  weight_loss,  cough,  high_fever,  breathlessness,  sweating,  loss_of_appetite,  mild_fever,  yellowing_of_eyes,  swelled_lymph_nodes,  malaise,  phlegm,  chest_pain,  blood_in_sputum]                      |[ chills,  yellowish_skin]                      |\n",
            "|Tuberculosis                           |[ chills,  fatigue,  weight_loss,  cough,  high_fever,  breathlessness,  sweating,  loss_of_appetite,  mild_fever,  yellowing_of_eyes,  swelled_lymph_nodes,  malaise,  phlegm,  chest_pain,  blood_in_sputum]                        |[ yellowish_skin]                               |\n",
            "|Tuberculosis                           |[ chills,  vomiting,  weight_loss,  cough,  high_fever,  breathlessness,  sweating,  loss_of_appetite,  mild_fever,  yellowing_of_eyes,  swelled_lymph_nodes,  malaise,  phlegm,  chest_pain,  blood_in_sputum]                       |[ fatigue,  yellowish_skin]                     |\n",
            "|Tuberculosis                           |[ chills,  vomiting,  fatigue,  cough,  high_fever,  breathlessness,  sweating,  loss_of_appetite,  mild_fever,  yellowing_of_eyes,  swelled_lymph_nodes,  malaise,  phlegm,  chest_pain,  blood_in_sputum]                           |[ yellowish_skin]                               |\n",
            "|Tuberculosis                           |[ chills,  vomiting,  fatigue,  weight_loss,  high_fever,  breathlessness,  sweating,  loss_of_appetite,  mild_fever,  yellowing_of_eyes,  swelled_lymph_nodes,  malaise,  phlegm,  chest_pain,  blood_in_sputum]                     |[ cough,  yellowish_skin]                       |\n",
            "|Tuberculosis                           |[ chills,  vomiting,  fatigue,  weight_loss,  cough,  breathlessness,  sweating,  loss_of_appetite,  mild_fever,  yellowing_of_eyes,  swelled_lymph_nodes,  malaise,  phlegm,  chest_pain,  blood_in_sputum]                          |[ high_fever,  yellowish_skin]                  |\n",
            "|Tuberculosis                           |[ chills,  vomiting,  fatigue,  weight_loss,  cough,  high_fever,  sweating,  loss_of_appetite,  mild_fever,  yellowing_of_eyes,  swelled_lymph_nodes,  malaise,  phlegm,  chest_pain,  blood_in_sputum]                              |[ yellowish_skin,  breathlessness]              |\n",
            "|Tuberculosis                           |[ chills,  vomiting,  fatigue,  weight_loss,  cough,  high_fever,  breathlessness,  loss_of_appetite,  mild_fever,  yellowing_of_eyes,  swelled_lymph_nodes,  malaise,  phlegm,  chest_pain,  blood_in_sputum]                        |[ yellowish_skin,  sweating]                    |\n",
            "|Common Cold                            |[ continuous_sneezing,  fatigue,  cough,  high_fever,  headache,  swelled_lymph_nodes,  malaise,  phlegm,  throat_irritation,  redness_of_eyes,  sinus_pressure,  runny_nose,  congestion,  chest_pain,  loss_of_smell,  muscle_pain] |[ chills]                                       |\n",
            "|Common Cold                            |[ continuous_sneezing,  chills,  cough,  high_fever,  headache,  swelled_lymph_nodes,  malaise,  phlegm,  throat_irritation,  redness_of_eyes,  sinus_pressure,  runny_nose,  congestion,  chest_pain,  loss_of_smell,  muscle_pain]  |[ fatigue]                                      |\n",
            "|Common Cold                            |[ continuous_sneezing,  chills,  fatigue,  high_fever,  headache,  swelled_lymph_nodes,  malaise,  phlegm,  throat_irritation,  redness_of_eyes,  sinus_pressure,  runny_nose,  congestion,  chest_pain,  loss_of_smell,  muscle_pain]|[ cough]                                        |\n",
            "|Common Cold                            |[ continuous_sneezing,  chills,  fatigue,  cough,  headache,  swelled_lymph_nodes,  malaise,  phlegm,  throat_irritation,  redness_of_eyes,  sinus_pressure,  runny_nose,  congestion,  chest_pain,  loss_of_smell,  muscle_pain]     |[ high_fever]                                   |\n",
            "|Common Cold                            |[ continuous_sneezing,  chills,  fatigue,  cough,  high_fever,  swelled_lymph_nodes,  malaise,  phlegm,  throat_irritation,  redness_of_eyes,  sinus_pressure,  runny_nose,  congestion,  chest_pain,  loss_of_smell,  muscle_pain]   |[ headache]                                     |\n",
            "|Common Cold                            |[ continuous_sneezing,  chills,  fatigue,  cough,  high_fever,  headache,  swelled_lymph_nodes,  phlegm,  throat_irritation,  redness_of_eyes,  sinus_pressure,  runny_nose,  congestion,  chest_pain,  loss_of_smell,  muscle_pain]  |[ malaise]                                      |\n",
            "|Pneumonia                              |[ chills,  fatigue,  cough,  high_fever,  breathlessness,  sweating,  malaise,  chest_pain,  fast_heart_rate,  rusty_sputum]                                                                                                          |[ phlegm]                                       |\n",
            "|Pneumonia                              |[ fatigue,  cough,  high_fever,  breathlessness,  sweating,  malaise,  phlegm,  chest_pain,  fast_heart_rate,  rusty_sputum]                                                                                                          |[ chills]                                       |\n",
            "|Pneumonia                              |[ chills,  cough,  high_fever,  breathlessness,  sweating,  malaise,  phlegm,  chest_pain,  fast_heart_rate,  rusty_sputum]                                                                                                           |[ fatigue]                                      |\n",
            "|Pneumonia                              |[ chills,  fatigue,  high_fever,  breathlessness,  sweating,  malaise,  phlegm,  chest_pain,  fast_heart_rate,  rusty_sputum]                                                                                                         |[ cough]                                        |\n",
            "|Pneumonia                              |[ chills,  fatigue,  cough,  breathlessness,  sweating,  malaise,  phlegm,  chest_pain,  fast_heart_rate,  rusty_sputum]                                                                                                              |[ high_fever]                                   |\n",
            "|Pneumonia                              |[ chills,  fatigue,  cough,  high_fever,  sweating,  malaise,  phlegm,  chest_pain,  fast_heart_rate,  rusty_sputum]                                                                                                                  |[ breathlessness]                               |\n",
            "|Pneumonia                              |[ chills,  fatigue,  cough,  high_fever,  breathlessness,  malaise,  phlegm,  chest_pain,  fast_heart_rate,  rusty_sputum]                                                                                                            |[ sweating]                                     |\n",
            "|Pneumonia                              |[ chills,  fatigue,  cough,  high_fever,  breathlessness,  sweating,  phlegm,  chest_pain,  fast_heart_rate,  rusty_sputum]                                                                                                           |[ malaise]                                      |\n",
            "|Heart attack                           |[ vomiting,  sweating,  chest_pain]                                                                                                                                                                                                   |[ breathlessness]                               |\n",
            "|Heart attack                           |[ vomiting,  breathlessness,  chest_pain]                                                                                                                                                                                             |[ sweating]                                     |\n",
            "|Heart attack                           |[ vomiting,  breathlessness,  sweating]                                                                                                                                                                                               |[ chest_pain]                                   |\n",
            "|Heart attack                           |[ vomiting,  sweating,  chest_pain]                                                                                                                                                                                                   |[ breathlessness]                               |\n",
            "|Heart attack                           |[ vomiting,  breathlessness,  chest_pain]                                                                                                                                                                                             |[ sweating]                                     |\n",
            "|Hypothyroidism                         |[ weight_gain,  cold_hands_and_feets,  mood_swings,  lethargy,  dizziness,  puffy_face_and_eyes,  enlarged_thyroid,  brittle_nails,  swollen_extremeties,  depression,  irritability,  abnormal_menstruation]                         |[ fatigue]                                      |\n",
            "|Hypothyroidism                         |[ weight_gain,  cold_hands_and_feets,  mood_swings,  lethargy,  dizziness,  puffy_face_and_eyes,  enlarged_thyroid,  brittle_nails,  swollen_extremeties,  depression,  irritability,  abnormal_menstruation]                         |[ fatigue]                                      |\n",
            "|Hyperthyroidism                        |[ mood_swings,  weight_loss,  restlessness,  sweating,  diarrhoea,  fast_heart_rate,  excessive_hunger,  muscle_weakness,  irritability,  abnormal_menstruation]                                                                      |[ fatigue]                                      |\n",
            "|Hypoglycemia                           |[ fatigue,  anxiety,  sweating,  headache,  nausea,  blurred_and_distorted_vision,  excessive_hunger,  drying_and_tingling_lips,  slurred_speech,  irritability,  palpitations]                                                       |[ vomiting]                                     |\n",
            "|Hypoglycemia                           |[ vomiting,  fatigue,  anxiety,  sweating,  headache,  blurred_and_distorted_vision,  excessive_hunger,  drying_and_tingling_lips,  slurred_speech,  irritability,  palpitations]                                                     |[ nausea]                                       |\n",
            "|(vertigo) Paroymsal  Positional Vertigo|[ headache,  nausea,  spinning_movements,  loss_of_balance,  unsteadiness]                                                                                                                                                            |[ vomiting]                                     |\n",
            "|(vertigo) Paroymsal  Positional Vertigo|[ vomiting,  headache,  spinning_movements,  loss_of_balance,  unsteadiness]                                                                                                                                                          |[ nausea]                                       |\n",
            "|Allergy                                |[ continuous_sneezing,  shivering,  chills,  watering_from_eyes]                                                                                                                                                                      |[ high_fever]                                   |\n",
            "|Allergy                                |[ shivering,  chills,  watering_from_eyes]                                                                                                                                                                                            |[ high_fever]                                   |\n",
            "|Allergy                                |[ continuous_sneezing,  chills,  watering_from_eyes]                                                                                                                                                                                  |[ high_fever]                                   |\n",
            "|Allergy                                |[ continuous_sneezing,  shivering,  chills]                                                                                                                                                                                           |[ high_fever]                                   |\n",
            "|Allergy                                |[ shivering,  chills,  watering_from_eyes]                                                                                                                                                                                            |[ high_fever]                                   |\n",
            "|Allergy                                |[ continuous_sneezing,  chills,  watering_from_eyes]                                                                                                                                                                                  |[ high_fever]                                   |\n",
            "|Allergy                                |[ continuous_sneezing,  shivering,  chills]                                                                                                                                                                                           |[ high_fever]                                   |\n",
            "|Allergy                                |[ continuous_sneezing,  shivering,  chills,  watering_from_eyes]                                                                                                                                                                      |[ high_fever]                                   |\n",
            "|Chronic cholestasis                    |[itching,  yellowish_skin,  nausea,  loss_of_appetite,  abdominal_pain,  yellowing_of_eyes]                                                                                                                                           |[ vomiting]                                     |\n",
            "|Chronic cholestasis                    |[itching,  vomiting,  nausea,  loss_of_appetite,  abdominal_pain,  yellowing_of_eyes]                                                                                                                                                 |[ yellowish_skin]                               |\n",
            "|Chronic cholestasis                    |[itching,  vomiting,  yellowish_skin,  loss_of_appetite,  abdominal_pain,  yellowing_of_eyes]                                                                                                                                         |[ nausea]                                       |\n",
            "|Chronic cholestasis                    |[itching,  vomiting,  yellowish_skin,  nausea,  abdominal_pain,  yellowing_of_eyes]                                                                                                                                                   |[ loss_of_appetite]                             |\n",
            "|Chronic cholestasis                    |[itching,  vomiting,  yellowish_skin,  nausea,  loss_of_appetite,  yellowing_of_eyes]                                                                                                                                                 |[ abdominal_pain]                               |\n",
            "|Chronic cholestasis                    |[itching,  vomiting,  yellowish_skin,  nausea,  loss_of_appetite,  abdominal_pain]                                                                                                                                                    |[ yellowing_of_eyes]                            |\n",
            "|Peptic ulcer diseae                    |[ vomiting,  loss_of_appetite,  abdominal_pain,  passage_of_gases,  internal_itching]                                                                                                                                                 |[ yellowing_of_eyes]                            |\n",
            "|Peptic ulcer diseae                    |[ indigestion,  loss_of_appetite,  abdominal_pain,  passage_of_gases,  internal_itching]                                                                                                                                              |[ vomiting,  yellowing_of_eyes]                 |\n",
            "|Peptic ulcer diseae                    |[ vomiting,  loss_of_appetite,  abdominal_pain,  passage_of_gases,  internal_itching]                                                                                                                                                 |[ yellowing_of_eyes]                            |\n",
            "|Peptic ulcer diseae                    |[ vomiting,  indigestion,  loss_of_appetite,  abdominal_pain,  internal_itching]                                                                                                                                                      |[ yellowing_of_eyes]                            |\n",
            "|Peptic ulcer diseae                    |[ vomiting,  indigestion,  loss_of_appetite,  abdominal_pain,  passage_of_gases]                                                                                                                                                      |[ yellowing_of_eyes]                            |\n",
            "|Peptic ulcer diseae                    |[ vomiting,  indigestion,  loss_of_appetite,  abdominal_pain,  passage_of_gases,  internal_itching]                                                                                                                                   |[ yellowing_of_eyes]                            |\n",
            "|Peptic ulcer diseae                    |[ vomiting,  indigestion,  loss_of_appetite,  abdominal_pain,  passage_of_gases,  internal_itching]                                                                                                                                   |[ yellowing_of_eyes]                            |\n",
            "|Diabetes                               |[ weight_loss,  restlessness,  lethargy,  irregular_sugar_level,  blurred_and_distorted_vision,  obesity,  excessive_hunger,  increased_appetite,  polyuria]                                                                          |[ fatigue]                                      |\n",
            "|Diabetes                               |[ fatigue,  weight_loss,  restlessness,  lethargy,  irregular_sugar_level,  blurred_and_distorted_vision,  obesity,  increased_appetite,  polyuria]                                                                                   |[ excessive_hunger]                             |\n",
            "|Bronchial Asthma                       |[ cough,  high_fever,  breathlessness,  family_history,  mucoid_sputum]                                                                                                                                                               |[ fatigue]                                      |\n",
            "|Bronchial Asthma                       |[ fatigue,  high_fever,  breathlessness,  family_history,  mucoid_sputum]                                                                                                                                                             |[ cough]                                        |\n",
            "|Bronchial Asthma                       |[ fatigue,  cough,  breathlessness,  family_history,  mucoid_sputum]                                                                                                                                                                  |[ high_fever]                                   |\n",
            "|Bronchial Asthma                       |[ cough,  high_fever,  breathlessness,  family_history,  mucoid_sputum]                                                                                                                                                               |[ fatigue]                                      |\n",
            "|Bronchial Asthma                       |[ fatigue,  high_fever,  breathlessness,  family_history,  mucoid_sputum]                                                                                                                                                             |[ cough]                                        |\n",
            "|Migraine                               |[ acidity,  indigestion,  headache,  blurred_and_distorted_vision,  stiff_neck,  depression,  irritability,  visual_disturbances]                                                                                                     |[ excessive_hunger]                             |\n",
            "|Paralysis (brain hemorrhage)           |[ vomiting,  headache,  weakness_of_one_body_side,  altered_sensorium]                                                                                                                                                                |[ nausea]                                       |\n",
            "|Paralysis (brain hemorrhage)           |[ vomiting,  headache,  weakness_of_one_body_side,  altered_sensorium]                                                                                                                                                                |[ nausea]                                       |\n",
            "|Paralysis (brain hemorrhage)           |[ vomiting,  headache,  altered_sensorium]                                                                                                                                                                                            |[ nausea]                                       |\n",
            "|Paralysis (brain hemorrhage)           |[ vomiting,  headache,  weakness_of_one_body_side]                                                                                                                                                                                    |[ nausea]                                       |\n",
            "|Paralysis (brain hemorrhage)           |[ vomiting,  headache,  weakness_of_one_body_side,  altered_sensorium]                                                                                                                                                                |[ nausea]                                       |\n",
            "|Paralysis (brain hemorrhage)           |[ vomiting,  headache,  altered_sensorium]                                                                                                                                                                                            |[ nausea]                                       |\n",
            "|Jaundice                               |[itching,  fatigue,  weight_loss,  high_fever,  yellowish_skin,  dark_urine,  abdominal_pain]                                                                                                                                         |[ vomiting]                                     |\n",
            "|Jaundice                               |[itching,  vomiting,  weight_loss,  high_fever,  yellowish_skin,  dark_urine,  abdominal_pain]                                                                                                                                        |[ fatigue]                                      |\n",
            "|Jaundice                               |[itching,  vomiting,  fatigue,  weight_loss,  high_fever,  dark_urine,  abdominal_pain]                                                                                                                                               |[ yellowish_skin]                               |\n",
            "|Jaundice                               |[itching,  vomiting,  fatigue,  weight_loss,  high_fever,  yellowish_skin,  abdominal_pain]                                                                                                                                           |[ dark_urine]                                   |\n",
            "|Jaundice                               |[itching,  vomiting,  fatigue,  weight_loss,  high_fever,  yellowish_skin,  dark_urine]                                                                                                                                               |[ abdominal_pain]                               |\n",
            "|Malaria                                |[ chills,  vomiting,  high_fever,  sweating,  headache,  nausea,  muscle_pain]                                                                                                                                                        |[ fatigue]                                      |\n",
            "|Malaria                                |[ chills,  vomiting,  high_fever,  sweating,  headache,  nausea,  diarrhoea,  muscle_pain]                                                                                                                                            |[ fatigue]                                      |\n",
            "|Malaria                                |[ chills,  vomiting,  high_fever,  sweating,  headache,  nausea,  diarrhoea,  muscle_pain]                                                                                                                                            |[ fatigue]                                      |\n",
            "|Malaria                                |[ vomiting,  high_fever,  sweating,  headache,  nausea,  diarrhoea,  muscle_pain]                                                                                                                                                     |[ chills]                                       |\n",
            "|Malaria                                |[ chills,  high_fever,  sweating,  headache,  nausea,  diarrhoea,  muscle_pain]                                                                                                                                                       |[ vomiting,  fatigue]                           |\n",
            "|Malaria                                |[ chills,  vomiting,  sweating,  headache,  nausea,  diarrhoea,  muscle_pain]                                                                                                                                                         |[ high_fever]                                   |\n",
            "|Malaria                                |[ chills,  vomiting,  high_fever,  headache,  nausea,  diarrhoea,  muscle_pain]                                                                                                                                                       |[ fatigue]                                      |\n",
            "|Malaria                                |[ chills,  vomiting,  high_fever,  sweating,  nausea,  diarrhoea,  muscle_pain]                                                                                                                                                       |[ headache,  fatigue]                           |\n",
            "|Malaria                                |[ chills,  vomiting,  high_fever,  sweating,  headache,  diarrhoea,  muscle_pain]                                                                                                                                                     |[ nausea,  fatigue]                             |\n",
            "|Malaria                                |[ chills,  vomiting,  high_fever,  sweating,  headache,  nausea,  muscle_pain]                                                                                                                                                        |[ fatigue]                                      |\n",
            "|Chicken pox                            |[itching,  skin_rash,  lethargy,  high_fever,  headache,  loss_of_appetite,  mild_fever,  swelled_lymph_nodes,  malaise,  red_spots_over_body]                                                                                        |[ fatigue]                                      |\n",
            "|Chicken pox                            |[itching,  skin_rash,  fatigue,  lethargy,  headache,  loss_of_appetite,  mild_fever,  swelled_lymph_nodes,  malaise,  red_spots_over_body]                                                                                           |[ high_fever]                                   |\n",
            "|Chicken pox                            |[itching,  skin_rash,  fatigue,  lethargy,  high_fever,  headache,  mild_fever,  swelled_lymph_nodes,  malaise,  red_spots_over_body]                                                                                                 |[ loss_of_appetite]                             |\n",
            "|Dengue                                 |[ skin_rash,  joint_pain,  vomiting,  fatigue,  high_fever,  headache,  nausea,  loss_of_appetite,  pain_behind_the_eyes,  back_pain,  malaise,  muscle_pain,  red_spots_over_body]                                                   |[ chills]                                       |\n",
            "|Dengue                                 |[ skin_rash,  chills,  joint_pain,  fatigue,  high_fever,  headache,  nausea,  loss_of_appetite,  pain_behind_the_eyes,  back_pain,  malaise,  muscle_pain,  red_spots_over_body]                                                     |[ vomiting]                                     |\n",
            "|Dengue                                 |[ skin_rash,  chills,  joint_pain,  vomiting,  high_fever,  headache,  nausea,  loss_of_appetite,  pain_behind_the_eyes,  back_pain,  malaise,  muscle_pain,  red_spots_over_body]                                                    |[ fatigue]                                      |\n",
            "|Dengue                                 |[ skin_rash,  chills,  joint_pain,  vomiting,  fatigue,  headache,  nausea,  loss_of_appetite,  pain_behind_the_eyes,  back_pain,  malaise,  muscle_pain,  red_spots_over_body]                                                       |[ high_fever]                                   |\n",
            "|Typhoid                                |[ chills,  vomiting,  fatigue,  high_fever,  nausea,  constipation,  abdominal_pain,  diarrhoea,  toxic_look_(typhos),  belly_pain]                                                                                                   |[ headache]                                     |\n",
            "|Typhoid                                |[ chills,  vomiting,  fatigue,  high_fever,  headache,  constipation,  abdominal_pain,  diarrhoea,  toxic_look_(typhos),  belly_pain]                                                                                                 |[ nausea]                                       |\n",
            "|Typhoid                                |[ chills,  fatigue,  high_fever,  headache,  nausea,  constipation,  abdominal_pain,  diarrhoea,  toxic_look_(typhos),  belly_pain]                                                                                                   |[ vomiting]                                     |\n",
            "|hepatitis A                            |[ vomiting,  yellowish_skin,  dark_urine,  nausea,  loss_of_appetite,  abdominal_pain,  diarrhoea,  mild_fever,  yellowing_of_eyes,  muscle_pain]                                                                                     |[ joint_pain]                                   |\n",
            "|hepatitis A                            |[ joint_pain,  yellowish_skin,  dark_urine,  nausea,  loss_of_appetite,  abdominal_pain,  diarrhoea,  mild_fever,  yellowing_of_eyes,  muscle_pain]                                                                                   |[ vomiting]                                     |\n",
            "|hepatitis A                            |[ joint_pain,  vomiting,  dark_urine,  nausea,  loss_of_appetite,  abdominal_pain,  diarrhoea,  mild_fever,  yellowing_of_eyes,  muscle_pain]                                                                                         |[ yellowish_skin]                               |\n",
            "|hepatitis A                            |[ joint_pain,  vomiting,  yellowish_skin,  nausea,  loss_of_appetite,  abdominal_pain,  diarrhoea,  mild_fever,  yellowing_of_eyes,  muscle_pain]                                                                                     |[ dark_urine]                                   |\n",
            "|hepatitis A                            |[ joint_pain,  vomiting,  yellowish_skin,  dark_urine,  loss_of_appetite,  abdominal_pain,  diarrhoea,  mild_fever,  yellowing_of_eyes,  muscle_pain]                                                                                 |[ nausea]                                       |\n",
            "|hepatitis A                            |[ joint_pain,  vomiting,  yellowish_skin,  dark_urine,  nausea,  abdominal_pain,  diarrhoea,  mild_fever,  yellowing_of_eyes,  muscle_pain]                                                                                           |[ loss_of_appetite]                             |\n",
            "|hepatitis A                            |[ joint_pain,  vomiting,  yellowish_skin,  dark_urine,  nausea,  loss_of_appetite,  diarrhoea,  mild_fever,  yellowing_of_eyes,  muscle_pain]                                                                                         |[ abdominal_pain]                               |\n",
            "|Hepatitis B                            |[itching,  fatigue,  lethargy,  yellowish_skin,  dark_urine,  loss_of_appetite,  abdominal_pain,  yellow_urine,  yellowing_of_eyes,  malaise,  receiving_blood_transfusion,  receiving_unsterile_injections]                          |[ vomiting]                                     |\n",
            "|Hepatitis B                            |[itching,  fatigue,  lethargy,  yellowish_skin,  dark_urine,  loss_of_appetite,  abdominal_pain,  yellow_urine,  yellowing_of_eyes,  malaise,  receiving_blood_transfusion,  receiving_unsterile_injections]                          |[ vomiting]                                     |\n",
            "|Hepatitis B                            |[ fatigue,  lethargy,  yellowish_skin,  dark_urine,  loss_of_appetite,  abdominal_pain,  yellow_urine,  yellowing_of_eyes,  malaise,  receiving_blood_transfusion,  receiving_unsterile_injections]                                   |[ vomiting]                                     |\n",
            "|Hepatitis B                            |[itching,  lethargy,  yellowish_skin,  dark_urine,  loss_of_appetite,  abdominal_pain,  yellow_urine,  yellowing_of_eyes,  malaise,  receiving_blood_transfusion,  receiving_unsterile_injections]                                    |[ fatigue,  vomiting]                           |\n",
            "|Hepatitis B                            |[itching,  fatigue,  yellowish_skin,  dark_urine,  loss_of_appetite,  abdominal_pain,  yellow_urine,  yellowing_of_eyes,  malaise,  receiving_blood_transfusion,  receiving_unsterile_injections]                                     |[ vomiting]                                     |\n",
            "|Hepatitis B                            |[itching,  fatigue,  lethargy,  dark_urine,  loss_of_appetite,  abdominal_pain,  yellow_urine,  yellowing_of_eyes,  malaise,  receiving_blood_transfusion,  receiving_unsterile_injections]                                           |[ yellowish_skin,  vomiting]                    |\n",
            "|Hepatitis B                            |[itching,  fatigue,  lethargy,  yellowish_skin,  loss_of_appetite,  abdominal_pain,  yellow_urine,  yellowing_of_eyes,  malaise,  receiving_blood_transfusion,  receiving_unsterile_injections]                                       |[ dark_urine,  vomiting]                        |\n",
            "|Hepatitis B                            |[itching,  fatigue,  lethargy,  yellowish_skin,  dark_urine,  abdominal_pain,  yellow_urine,  yellowing_of_eyes,  malaise,  receiving_blood_transfusion,  receiving_unsterile_injections]                                             |[ loss_of_appetite,  vomiting]                  |\n",
            "|Hepatitis B                            |[itching,  fatigue,  lethargy,  yellowish_skin,  dark_urine,  loss_of_appetite,  yellow_urine,  yellowing_of_eyes,  malaise,  receiving_blood_transfusion,  receiving_unsterile_injections]                                           |[ abdominal_pain]                               |\n",
            "|Hepatitis B                            |[itching,  fatigue,  lethargy,  yellowish_skin,  dark_urine,  loss_of_appetite,  abdominal_pain,  yellowing_of_eyes,  malaise,  receiving_blood_transfusion,  receiving_unsterile_injections]                                         |[ vomiting]                                     |\n",
            "|Hepatitis C                            |[ fatigue,  yellowish_skin,  nausea,  loss_of_appetite,  family_history]                                                                                                                                                              |[ yellowing_of_eyes,  vomiting,  abdominal_pain]|\n",
            "|Hepatitis C                            |[ fatigue,  yellowish_skin,  nausea,  loss_of_appetite,  yellowing_of_eyes,  family_history]                                                                                                                                          |[ abdominal_pain,  vomiting]                    |\n",
            "|Hepatitis C                            |[ yellowish_skin,  nausea,  loss_of_appetite,  yellowing_of_eyes,  family_history]                                                                                                                                                    |[ abdominal_pain,  vomiting]                    |\n",
            "|Hepatitis C                            |[ fatigue,  nausea,  loss_of_appetite,  yellowing_of_eyes,  family_history]                                                                                                                                                           |[ yellowish_skin,  vomiting]                    |\n",
            "|Hepatitis C                            |[ fatigue,  yellowish_skin,  loss_of_appetite,  yellowing_of_eyes,  family_history]                                                                                                                                                   |[ abdominal_pain]                               |\n",
            "|Hepatitis C                            |[ fatigue,  yellowish_skin,  nausea,  yellowing_of_eyes,  family_history]                                                                                                                                                             |[ loss_of_appetite,  abdominal_pain,  vomiting] |\n",
            "|Hepatitis C                            |[ fatigue,  yellowish_skin,  nausea,  loss_of_appetite,  family_history]                                                                                                                                                              |[ yellowing_of_eyes,  vomiting,  abdominal_pain]|\n",
            "|Hepatitis C                            |[ fatigue,  yellowish_skin,  nausea,  loss_of_appetite,  yellowing_of_eyes]                                                                                                                                                           |[ abdominal_pain,  vomiting]                    |\n",
            "|Hepatitis C                            |[ fatigue,  yellowish_skin,  nausea,  loss_of_appetite,  yellowing_of_eyes,  family_history]                                                                                                                                          |[ abdominal_pain,  vomiting]                    |\n",
            "|Hepatitis C                            |[ fatigue,  yellowish_skin,  nausea,  loss_of_appetite,  yellowing_of_eyes,  family_history]                                                                                                                                          |[ abdominal_pain,  vomiting]                    |\n",
            "|Hepatitis D                            |[ vomiting,  fatigue,  yellowish_skin,  dark_urine,  nausea,  loss_of_appetite,  abdominal_pain,  yellowing_of_eyes]                                                                                                                  |[ joint_pain]                                   |\n",
            "|Hepatitis D                            |[ joint_pain,  fatigue,  yellowish_skin,  dark_urine,  nausea,  loss_of_appetite,  abdominal_pain,  yellowing_of_eyes]                                                                                                                |[ vomiting]                                     |\n",
            "|Hepatitis D                            |[ joint_pain,  vomiting,  fatigue,  dark_urine,  nausea,  loss_of_appetite,  abdominal_pain,  yellowing_of_eyes]                                                                                                                      |[ yellowish_skin]                               |\n",
            "|Hepatitis D                            |[ joint_pain,  vomiting,  fatigue,  yellowish_skin,  nausea,  loss_of_appetite,  abdominal_pain,  yellowing_of_eyes]                                                                                                                  |[ dark_urine]                                   |\n",
            "|Hepatitis D                            |[ joint_pain,  vomiting,  fatigue,  yellowish_skin,  dark_urine,  loss_of_appetite,  abdominal_pain,  yellowing_of_eyes]                                                                                                              |[ nausea]                                       |\n",
            "|Hepatitis D                            |[ joint_pain,  vomiting,  fatigue,  yellowish_skin,  dark_urine,  nausea,  abdominal_pain,  yellowing_of_eyes]                                                                                                                        |[ loss_of_appetite]                             |\n",
            "|Hepatitis D                            |[ joint_pain,  vomiting,  fatigue,  yellowish_skin,  dark_urine,  nausea,  loss_of_appetite,  yellowing_of_eyes]                                                                                                                      |[ abdominal_pain]                               |\n",
            "|Hepatitis D                            |[ joint_pain,  vomiting,  fatigue,  yellowish_skin,  dark_urine,  nausea,  loss_of_appetite,  abdominal_pain]                                                                                                                         |[ yellowing_of_eyes]                            |\n",
            "|Hepatitis E                            |[ vomiting,  fatigue,  high_fever,  yellowish_skin,  dark_urine,  nausea,  loss_of_appetite,  abdominal_pain,  yellowing_of_eyes,  acute_liver_failure,  coma,  stomach_bleeding]                                                     |[ joint_pain]                                   |\n",
            "|Hepatitis E                            |[ joint_pain,  fatigue,  high_fever,  yellowish_skin,  dark_urine,  nausea,  loss_of_appetite,  abdominal_pain,  yellowing_of_eyes,  acute_liver_failure,  coma,  stomach_bleeding]                                                   |[ vomiting]                                     |\n",
            "|Hepatitis E                            |[ joint_pain,  vomiting,  high_fever,  yellowish_skin,  dark_urine,  nausea,  loss_of_appetite,  abdominal_pain,  yellowing_of_eyes,  acute_liver_failure,  coma,  stomach_bleeding]                                                  |[ fatigue]                                      |\n",
            "|Hepatitis E                            |[ joint_pain,  vomiting,  fatigue,  high_fever,  dark_urine,  nausea,  loss_of_appetite,  abdominal_pain,  yellowing_of_eyes,  acute_liver_failure,  coma,  stomach_bleeding]                                                         |[ yellowish_skin]                               |\n",
            "|Hepatitis E                            |[ joint_pain,  vomiting,  fatigue,  high_fever,  yellowish_skin,  nausea,  loss_of_appetite,  abdominal_pain,  yellowing_of_eyes,  acute_liver_failure,  coma,  stomach_bleeding]                                                     |[ dark_urine]                                   |\n",
            "|Hepatitis E                            |[ joint_pain,  vomiting,  fatigue,  high_fever,  yellowish_skin,  dark_urine,  loss_of_appetite,  abdominal_pain,  yellowing_of_eyes,  acute_liver_failure,  coma,  stomach_bleeding]                                                 |[ nausea]                                       |\n",
            "|Alcoholic hepatitis                    |[ yellowish_skin,  abdominal_pain,  swelling_of_stomach,  distention_of_abdomen,  history_of_alcohol_consumption,  fluid_overload]                                                                                                    |[ vomiting]                                     |\n",
            "|Alcoholic hepatitis                    |[ vomiting,  yellowish_skin,  swelling_of_stomach,  distention_of_abdomen,  history_of_alcohol_consumption,  fluid_overload]                                                                                                          |[ abdominal_pain]                               |\n",
            "|Tuberculosis                           |[ chills,  vomiting,  fatigue,  weight_loss,  cough,  high_fever,  breathlessness,  sweating,  loss_of_appetite,  mild_fever,  yellowing_of_eyes,  swelled_lymph_nodes,  malaise,  phlegm,  chest_pain,  blood_in_sputum]             |[ yellowish_skin]                               |\n",
            "|Tuberculosis                           |[ chills,  vomiting,  fatigue,  weight_loss,  cough,  high_fever,  breathlessness,  sweating,  loss_of_appetite,  mild_fever,  yellowing_of_eyes,  swelled_lymph_nodes,  malaise,  phlegm,  chest_pain,  blood_in_sputum]             |[ yellowish_skin]                               |\n",
            "|Tuberculosis                           |[ vomiting,  fatigue,  weight_loss,  cough,  high_fever,  breathlessness,  sweating,  loss_of_appetite,  mild_fever,  yellowing_of_eyes,  swelled_lymph_nodes,  malaise,  phlegm,  chest_pain,  blood_in_sputum]                      |[ chills,  yellowish_skin]                      |\n",
            "|Tuberculosis                           |[ chills,  fatigue,  weight_loss,  cough,  high_fever,  breathlessness,  sweating,  loss_of_appetite,  mild_fever,  yellowing_of_eyes,  swelled_lymph_nodes,  malaise,  phlegm,  chest_pain,  blood_in_sputum]                        |[ yellowish_skin]                               |\n",
            "|Tuberculosis                           |[ chills,  vomiting,  weight_loss,  cough,  high_fever,  breathlessness,  sweating,  loss_of_appetite,  mild_fever,  yellowing_of_eyes,  swelled_lymph_nodes,  malaise,  phlegm,  chest_pain,  blood_in_sputum]                       |[ fatigue,  yellowish_skin]                     |\n",
            "|Tuberculosis                           |[ chills,  vomiting,  fatigue,  cough,  high_fever,  breathlessness,  sweating,  loss_of_appetite,  mild_fever,  yellowing_of_eyes,  swelled_lymph_nodes,  malaise,  phlegm,  chest_pain,  blood_in_sputum]                           |[ yellowish_skin]                               |\n",
            "|Tuberculosis                           |[ chills,  vomiting,  fatigue,  weight_loss,  high_fever,  breathlessness,  sweating,  loss_of_appetite,  mild_fever,  yellowing_of_eyes,  swelled_lymph_nodes,  malaise,  phlegm,  chest_pain,  blood_in_sputum]                     |[ cough,  yellowish_skin]                       |\n",
            "|Tuberculosis                           |[ chills,  vomiting,  fatigue,  weight_loss,  cough,  breathlessness,  sweating,  loss_of_appetite,  mild_fever,  yellowing_of_eyes,  swelled_lymph_nodes,  malaise,  phlegm,  chest_pain,  blood_in_sputum]                          |[ high_fever,  yellowish_skin]                  |\n",
            "|Tuberculosis                           |[ chills,  vomiting,  fatigue,  weight_loss,  cough,  high_fever,  sweating,  loss_of_appetite,  mild_fever,  yellowing_of_eyes,  swelled_lymph_nodes,  malaise,  phlegm,  chest_pain,  blood_in_sputum]                              |[ yellowish_skin,  breathlessness]              |\n",
            "|Tuberculosis                           |[ chills,  vomiting,  fatigue,  weight_loss,  cough,  high_fever,  breathlessness,  loss_of_appetite,  mild_fever,  yellowing_of_eyes,  swelled_lymph_nodes,  malaise,  phlegm,  chest_pain,  blood_in_sputum]                        |[ yellowish_skin,  sweating]                    |\n",
            "|Common Cold                            |[ continuous_sneezing,  fatigue,  cough,  high_fever,  headache,  swelled_lymph_nodes,  malaise,  phlegm,  throat_irritation,  redness_of_eyes,  sinus_pressure,  runny_nose,  congestion,  chest_pain,  loss_of_smell,  muscle_pain] |[ chills]                                       |\n",
            "|Common Cold                            |[ continuous_sneezing,  chills,  cough,  high_fever,  headache,  swelled_lymph_nodes,  malaise,  phlegm,  throat_irritation,  redness_of_eyes,  sinus_pressure,  runny_nose,  congestion,  chest_pain,  loss_of_smell,  muscle_pain]  |[ fatigue]                                      |\n",
            "|Common Cold                            |[ continuous_sneezing,  chills,  fatigue,  high_fever,  headache,  swelled_lymph_nodes,  malaise,  phlegm,  throat_irritation,  redness_of_eyes,  sinus_pressure,  runny_nose,  congestion,  chest_pain,  loss_of_smell,  muscle_pain]|[ cough]                                        |\n",
            "|Common Cold                            |[ continuous_sneezing,  chills,  fatigue,  cough,  headache,  swelled_lymph_nodes,  malaise,  phlegm,  throat_irritation,  redness_of_eyes,  sinus_pressure,  runny_nose,  congestion,  chest_pain,  loss_of_smell,  muscle_pain]     |[ high_fever]                                   |\n",
            "|Common Cold                            |[ continuous_sneezing,  chills,  fatigue,  cough,  high_fever,  swelled_lymph_nodes,  malaise,  phlegm,  throat_irritation,  redness_of_eyes,  sinus_pressure,  runny_nose,  congestion,  chest_pain,  loss_of_smell,  muscle_pain]   |[ headache]                                     |\n",
            "|Common Cold                            |[ continuous_sneezing,  chills,  fatigue,  cough,  high_fever,  headache,  swelled_lymph_nodes,  phlegm,  throat_irritation,  redness_of_eyes,  sinus_pressure,  runny_nose,  congestion,  chest_pain,  loss_of_smell,  muscle_pain]  |[ malaise]                                      |\n",
            "|Pneumonia                              |[ chills,  fatigue,  cough,  high_fever,  breathlessness,  sweating,  malaise,  chest_pain,  fast_heart_rate,  rusty_sputum]                                                                                                          |[ phlegm]                                       |\n",
            "|Pneumonia                              |[ fatigue,  cough,  high_fever,  breathlessness,  sweating,  malaise,  phlegm,  chest_pain,  fast_heart_rate,  rusty_sputum]                                                                                                          |[ chills]                                       |\n",
            "|Pneumonia                              |[ chills,  cough,  high_fever,  breathlessness,  sweating,  malaise,  phlegm,  chest_pain,  fast_heart_rate,  rusty_sputum]                                                                                                           |[ fatigue]                                      |\n",
            "|Pneumonia                              |[ chills,  fatigue,  high_fever,  breathlessness,  sweating,  malaise,  phlegm,  chest_pain,  fast_heart_rate,  rusty_sputum]                                                                                                         |[ cough]                                        |\n",
            "|Pneumonia                              |[ chills,  fatigue,  cough,  breathlessness,  sweating,  malaise,  phlegm,  chest_pain,  fast_heart_rate,  rusty_sputum]                                                                                                              |[ high_fever]                                   |\n",
            "|Pneumonia                              |[ chills,  fatigue,  cough,  high_fever,  sweating,  malaise,  phlegm,  chest_pain,  fast_heart_rate,  rusty_sputum]                                                                                                                  |[ breathlessness]                               |\n",
            "|Pneumonia                              |[ chills,  fatigue,  cough,  high_fever,  breathlessness,  malaise,  phlegm,  chest_pain,  fast_heart_rate,  rusty_sputum]                                                                                                            |[ sweating]                                     |\n",
            "|Pneumonia                              |[ chills,  fatigue,  cough,  high_fever,  breathlessness,  sweating,  phlegm,  chest_pain,  fast_heart_rate,  rusty_sputum]                                                                                                           |[ malaise]                                      |\n",
            "|Heart attack                           |[ vomiting,  sweating,  chest_pain]                                                                                                                                                                                                   |[ breathlessness]                               |\n",
            "|Heart attack                           |[ vomiting,  breathlessness,  chest_pain]                                                                                                                                                                                             |[ sweating]                                     |\n",
            "|Heart attack                           |[ vomiting,  breathlessness,  sweating]                                                                                                                                                                                               |[ chest_pain]                                   |\n",
            "|Heart attack                           |[ vomiting,  sweating,  chest_pain]                                                                                                                                                                                                   |[ breathlessness]                               |\n",
            "|Heart attack                           |[ vomiting,  breathlessness,  chest_pain]                                                                                                                                                                                             |[ sweating]                                     |\n",
            "|Hypothyroidism                         |[ weight_gain,  cold_hands_and_feets,  mood_swings,  lethargy,  dizziness,  puffy_face_and_eyes,  enlarged_thyroid,  brittle_nails,  swollen_extremeties,  depression,  irritability,  abnormal_menstruation]                         |[ fatigue]                                      |\n",
            "|Hypothyroidism                         |[ weight_gain,  cold_hands_and_feets,  mood_swings,  lethargy,  dizziness,  puffy_face_and_eyes,  enlarged_thyroid,  brittle_nails,  swollen_extremeties,  depression,  irritability,  abnormal_menstruation]                         |[ fatigue]                                      |\n",
            "|Hyperthyroidism                        |[ mood_swings,  weight_loss,  restlessness,  sweating,  diarrhoea,  fast_heart_rate,  excessive_hunger,  muscle_weakness,  irritability,  abnormal_menstruation]                                                                      |[ fatigue]                                      |\n",
            "|Hypoglycemia                           |[ fatigue,  anxiety,  sweating,  headache,  nausea,  blurred_and_distorted_vision,  excessive_hunger,  drying_and_tingling_lips,  slurred_speech,  irritability,  palpitations]                                                       |[ vomiting]                                     |\n",
            "|Hypoglycemia                           |[ vomiting,  fatigue,  anxiety,  sweating,  headache,  blurred_and_distorted_vision,  excessive_hunger,  drying_and_tingling_lips,  slurred_speech,  irritability,  palpitations]                                                     |[ nausea]                                       |\n",
            "|(vertigo) Paroymsal  Positional Vertigo|[ headache,  nausea,  spinning_movements,  loss_of_balance,  unsteadiness]                                                                                                                                                            |[ vomiting]                                     |\n",
            "|(vertigo) Paroymsal  Positional Vertigo|[ vomiting,  headache,  spinning_movements,  loss_of_balance,  unsteadiness]                                                                                                                                                          |[ nausea]                                       |\n",
            "|Allergy                                |[ continuous_sneezing,  shivering,  chills,  watering_from_eyes]                                                                                                                                                                      |[ high_fever]                                   |\n",
            "|Allergy                                |[ shivering,  chills,  watering_from_eyes]                                                                                                                                                                                            |[ high_fever]                                   |\n",
            "|Allergy                                |[ continuous_sneezing,  chills,  watering_from_eyes]                                                                                                                                                                                  |[ high_fever]                                   |\n",
            "|Allergy                                |[ continuous_sneezing,  shivering,  chills]                                                                                                                                                                                           |[ high_fever]                                   |\n",
            "|Allergy                                |[ shivering,  chills,  watering_from_eyes]                                                                                                                                                                                            |[ high_fever]                                   |\n",
            "|Allergy                                |[ continuous_sneezing,  chills,  watering_from_eyes]                                                                                                                                                                                  |[ high_fever]                                   |\n",
            "|Allergy                                |[ continuous_sneezing,  shivering,  chills]                                                                                                                                                                                           |[ high_fever]                                   |\n",
            "|Allergy                                |[ continuous_sneezing,  shivering,  chills,  watering_from_eyes]                                                                                                                                                                      |[ high_fever]                                   |\n",
            "|Chronic cholestasis                    |[itching,  yellowish_skin,  nausea,  loss_of_appetite,  abdominal_pain,  yellowing_of_eyes]                                                                                                                                           |[ vomiting]                                     |\n",
            "|Chronic cholestasis                    |[itching,  vomiting,  nausea,  loss_of_appetite,  abdominal_pain,  yellowing_of_eyes]                                                                                                                                                 |[ yellowish_skin]                               |\n",
            "|Chronic cholestasis                    |[itching,  vomiting,  yellowish_skin,  loss_of_appetite,  abdominal_pain,  yellowing_of_eyes]                                                                                                                                         |[ nausea]                                       |\n",
            "|Chronic cholestasis                    |[itching,  vomiting,  yellowish_skin,  nausea,  abdominal_pain,  yellowing_of_eyes]                                                                                                                                                   |[ loss_of_appetite]                             |\n",
            "|Chronic cholestasis                    |[itching,  vomiting,  yellowish_skin,  nausea,  loss_of_appetite,  yellowing_of_eyes]                                                                                                                                                 |[ abdominal_pain]                               |\n",
            "|Chronic cholestasis                    |[itching,  vomiting,  yellowish_skin,  nausea,  loss_of_appetite,  abdominal_pain]                                                                                                                                                    |[ yellowing_of_eyes]                            |\n",
            "|Peptic ulcer diseae                    |[ vomiting,  loss_of_appetite,  abdominal_pain,  passage_of_gases,  internal_itching]                                                                                                                                                 |[ yellowing_of_eyes]                            |\n",
            "|Peptic ulcer diseae                    |[ indigestion,  loss_of_appetite,  abdominal_pain,  passage_of_gases,  internal_itching]                                                                                                                                              |[ vomiting,  yellowing_of_eyes]                 |\n",
            "|Peptic ulcer diseae                    |[ vomiting,  loss_of_appetite,  abdominal_pain,  passage_of_gases,  internal_itching]                                                                                                                                                 |[ yellowing_of_eyes]                            |\n",
            "|Peptic ulcer diseae                    |[ vomiting,  indigestion,  loss_of_appetite,  abdominal_pain,  internal_itching]                                                                                                                                                      |[ yellowing_of_eyes]                            |\n",
            "|Peptic ulcer diseae                    |[ vomiting,  indigestion,  loss_of_appetite,  abdominal_pain,  passage_of_gases]                                                                                                                                                      |[ yellowing_of_eyes]                            |\n",
            "|Peptic ulcer diseae                    |[ vomiting,  indigestion,  loss_of_appetite,  abdominal_pain,  passage_of_gases,  internal_itching]                                                                                                                                   |[ yellowing_of_eyes]                            |\n",
            "|Peptic ulcer diseae                    |[ vomiting,  indigestion,  loss_of_appetite,  abdominal_pain,  passage_of_gases,  internal_itching]                                                                                                                                   |[ yellowing_of_eyes]                            |\n",
            "|Diabetes                               |[ weight_loss,  restlessness,  lethargy,  irregular_sugar_level,  blurred_and_distorted_vision,  obesity,  excessive_hunger,  increased_appetite,  polyuria]                                                                          |[ fatigue]                                      |\n",
            "|Diabetes                               |[ fatigue,  weight_loss,  restlessness,  lethargy,  irregular_sugar_level,  blurred_and_distorted_vision,  obesity,  increased_appetite,  polyuria]                                                                                   |[ excessive_hunger]                             |\n",
            "|Bronchial Asthma                       |[ cough,  high_fever,  breathlessness,  family_history,  mucoid_sputum]                                                                                                                                                               |[ fatigue]                                      |\n",
            "|Bronchial Asthma                       |[ fatigue,  high_fever,  breathlessness,  family_history,  mucoid_sputum]                                                                                                                                                             |[ cough]                                        |\n",
            "|Bronchial Asthma                       |[ fatigue,  cough,  breathlessness,  family_history,  mucoid_sputum]                                                                                                                                                                  |[ high_fever]                                   |\n",
            "|Bronchial Asthma                       |[ cough,  high_fever,  breathlessness,  family_history,  mucoid_sputum]                                                                                                                                                               |[ fatigue]                                      |\n",
            "|Bronchial Asthma                       |[ fatigue,  high_fever,  breathlessness,  family_history,  mucoid_sputum]                                                                                                                                                             |[ cough]                                        |\n",
            "|Migraine                               |[ acidity,  indigestion,  headache,  blurred_and_distorted_vision,  stiff_neck,  depression,  irritability,  visual_disturbances]                                                                                                     |[ excessive_hunger]                             |\n",
            "|Paralysis (brain hemorrhage)           |[ vomiting,  headache,  weakness_of_one_body_side,  altered_sensorium]                                                                                                                                                                |[ nausea]                                       |\n",
            "|Paralysis (brain hemorrhage)           |[ vomiting,  headache,  weakness_of_one_body_side,  altered_sensorium]                                                                                                                                                                |[ nausea]                                       |\n",
            "|Paralysis (brain hemorrhage)           |[ vomiting,  headache,  altered_sensorium]                                                                                                                                                                                            |[ nausea]                                       |\n",
            "|Paralysis (brain hemorrhage)           |[ vomiting,  headache,  weakness_of_one_body_side]                                                                                                                                                                                    |[ nausea]                                       |\n",
            "|Paralysis (brain hemorrhage)           |[ vomiting,  headache,  weakness_of_one_body_side,  altered_sensorium]                                                                                                                                                                |[ nausea]                                       |\n",
            "|Paralysis (brain hemorrhage)           |[ vomiting,  headache,  altered_sensorium]                                                                                                                                                                                            |[ nausea]                                       |\n",
            "|Jaundice                               |[itching,  fatigue,  weight_loss,  high_fever,  yellowish_skin,  dark_urine,  abdominal_pain]                                                                                                                                         |[ vomiting]                                     |\n",
            "|Jaundice                               |[itching,  vomiting,  weight_loss,  high_fever,  yellowish_skin,  dark_urine,  abdominal_pain]                                                                                                                                        |[ fatigue]                                      |\n",
            "|Jaundice                               |[itching,  vomiting,  fatigue,  weight_loss,  high_fever,  dark_urine,  abdominal_pain]                                                                                                                                               |[ yellowish_skin]                               |\n",
            "|Jaundice                               |[itching,  vomiting,  fatigue,  weight_loss,  high_fever,  yellowish_skin,  abdominal_pain]                                                                                                                                           |[ dark_urine]                                   |\n",
            "|Jaundice                               |[itching,  vomiting,  fatigue,  weight_loss,  high_fever,  yellowish_skin,  dark_urine]                                                                                                                                               |[ abdominal_pain]                               |\n",
            "|Malaria                                |[ chills,  vomiting,  high_fever,  sweating,  headache,  nausea,  muscle_pain]                                                                                                                                                        |[ fatigue]                                      |\n",
            "|Malaria                                |[ chills,  vomiting,  high_fever,  sweating,  headache,  nausea,  diarrhoea,  muscle_pain]                                                                                                                                            |[ fatigue]                                      |\n",
            "|Malaria                                |[ chills,  vomiting,  high_fever,  sweating,  headache,  nausea,  diarrhoea,  muscle_pain]                                                                                                                                            |[ fatigue]                                      |\n",
            "|Malaria                                |[ vomiting,  high_fever,  sweating,  headache,  nausea,  diarrhoea,  muscle_pain]                                                                                                                                                     |[ chills]                                       |\n",
            "|Malaria                                |[ chills,  high_fever,  sweating,  headache,  nausea,  diarrhoea,  muscle_pain]                                                                                                                                                       |[ vomiting,  fatigue]                           |\n",
            "|Malaria                                |[ chills,  vomiting,  sweating,  headache,  nausea,  diarrhoea,  muscle_pain]                                                                                                                                                         |[ high_fever]                                   |\n",
            "|Malaria                                |[ chills,  vomiting,  high_fever,  headache,  nausea,  diarrhoea,  muscle_pain]                                                                                                                                                       |[ fatigue]                                      |\n",
            "|Malaria                                |[ chills,  vomiting,  high_fever,  sweating,  nausea,  diarrhoea,  muscle_pain]                                                                                                                                                       |[ headache,  fatigue]                           |\n",
            "|Malaria                                |[ chills,  vomiting,  high_fever,  sweating,  headache,  diarrhoea,  muscle_pain]                                                                                                                                                     |[ nausea,  fatigue]                             |\n",
            "|Malaria                                |[ chills,  vomiting,  high_fever,  sweating,  headache,  nausea,  muscle_pain]                                                                                                                                                        |[ fatigue]                                      |\n",
            "|Chicken pox                            |[itching,  skin_rash,  lethargy,  high_fever,  headache,  loss_of_appetite,  mild_fever,  swelled_lymph_nodes,  malaise,  red_spots_over_body]                                                                                        |[ fatigue]                                      |\n",
            "|Chicken pox                            |[itching,  skin_rash,  fatigue,  lethargy,  headache,  loss_of_appetite,  mild_fever,  swelled_lymph_nodes,  malaise,  red_spots_over_body]                                                                                           |[ high_fever]                                   |\n",
            "|Chicken pox                            |[itching,  skin_rash,  fatigue,  lethargy,  high_fever,  headache,  mild_fever,  swelled_lymph_nodes,  malaise,  red_spots_over_body]                                                                                                 |[ loss_of_appetite]                             |\n",
            "|Dengue                                 |[ skin_rash,  joint_pain,  vomiting,  fatigue,  high_fever,  headache,  nausea,  loss_of_appetite,  pain_behind_the_eyes,  back_pain,  malaise,  muscle_pain,  red_spots_over_body]                                                   |[ chills]                                       |\n",
            "|Dengue                                 |[ skin_rash,  chills,  joint_pain,  fatigue,  high_fever,  headache,  nausea,  loss_of_appetite,  pain_behind_the_eyes,  back_pain,  malaise,  muscle_pain,  red_spots_over_body]                                                     |[ vomiting]                                     |\n",
            "|Dengue                                 |[ skin_rash,  chills,  joint_pain,  vomiting,  high_fever,  headache,  nausea,  loss_of_appetite,  pain_behind_the_eyes,  back_pain,  malaise,  muscle_pain,  red_spots_over_body]                                                    |[ fatigue]                                      |\n",
            "|Dengue                                 |[ skin_rash,  chills,  joint_pain,  vomiting,  fatigue,  headache,  nausea,  loss_of_appetite,  pain_behind_the_eyes,  back_pain,  malaise,  muscle_pain,  red_spots_over_body]                                                       |[ high_fever]                                   |\n",
            "|Typhoid                                |[ chills,  vomiting,  fatigue,  high_fever,  nausea,  constipation,  abdominal_pain,  diarrhoea,  toxic_look_(typhos),  belly_pain]                                                                                                   |[ headache]                                     |\n",
            "|Typhoid                                |[ chills,  vomiting,  fatigue,  high_fever,  headache,  constipation,  abdominal_pain,  diarrhoea,  toxic_look_(typhos),  belly_pain]                                                                                                 |[ nausea]                                       |\n",
            "|Typhoid                                |[ chills,  fatigue,  high_fever,  headache,  nausea,  constipation,  abdominal_pain,  diarrhoea,  toxic_look_(typhos),  belly_pain]                                                                                                   |[ vomiting]                                     |\n",
            "|hepatitis A                            |[ vomiting,  yellowish_skin,  dark_urine,  nausea,  loss_of_appetite,  abdominal_pain,  diarrhoea,  mild_fever,  yellowing_of_eyes,  muscle_pain]                                                                                     |[ joint_pain]                                   |\n",
            "|hepatitis A                            |[ joint_pain,  yellowish_skin,  dark_urine,  nausea,  loss_of_appetite,  abdominal_pain,  diarrhoea,  mild_fever,  yellowing_of_eyes,  muscle_pain]                                                                                   |[ vomiting]                                     |\n",
            "|hepatitis A                            |[ joint_pain,  vomiting,  dark_urine,  nausea,  loss_of_appetite,  abdominal_pain,  diarrhoea,  mild_fever,  yellowing_of_eyes,  muscle_pain]                                                                                         |[ yellowish_skin]                               |\n",
            "|hepatitis A                            |[ joint_pain,  vomiting,  yellowish_skin,  nausea,  loss_of_appetite,  abdominal_pain,  diarrhoea,  mild_fever,  yellowing_of_eyes,  muscle_pain]                                                                                     |[ dark_urine]                                   |\n",
            "|hepatitis A                            |[ joint_pain,  vomiting,  yellowish_skin,  dark_urine,  loss_of_appetite,  abdominal_pain,  diarrhoea,  mild_fever,  yellowing_of_eyes,  muscle_pain]                                                                                 |[ nausea]                                       |\n",
            "|hepatitis A                            |[ joint_pain,  vomiting,  yellowish_skin,  dark_urine,  nausea,  abdominal_pain,  diarrhoea,  mild_fever,  yellowing_of_eyes,  muscle_pain]                                                                                           |[ loss_of_appetite]                             |\n",
            "|hepatitis A                            |[ joint_pain,  vomiting,  yellowish_skin,  dark_urine,  nausea,  loss_of_appetite,  diarrhoea,  mild_fever,  yellowing_of_eyes,  muscle_pain]                                                                                         |[ abdominal_pain]                               |\n",
            "|Hepatitis B                            |[itching,  fatigue,  lethargy,  yellowish_skin,  dark_urine,  loss_of_appetite,  abdominal_pain,  yellow_urine,  yellowing_of_eyes,  malaise,  receiving_blood_transfusion,  receiving_unsterile_injections]                          |[ vomiting]                                     |\n",
            "|Hepatitis B                            |[itching,  fatigue,  lethargy,  yellowish_skin,  dark_urine,  loss_of_appetite,  abdominal_pain,  yellow_urine,  yellowing_of_eyes,  malaise,  receiving_blood_transfusion,  receiving_unsterile_injections]                          |[ vomiting]                                     |\n",
            "|Hepatitis B                            |[ fatigue,  lethargy,  yellowish_skin,  dark_urine,  loss_of_appetite,  abdominal_pain,  yellow_urine,  yellowing_of_eyes,  malaise,  receiving_blood_transfusion,  receiving_unsterile_injections]                                   |[ vomiting]                                     |\n",
            "|Hepatitis B                            |[itching,  lethargy,  yellowish_skin,  dark_urine,  loss_of_appetite,  abdominal_pain,  yellow_urine,  yellowing_of_eyes,  malaise,  receiving_blood_transfusion,  receiving_unsterile_injections]                                    |[ fatigue,  vomiting]                           |\n",
            "|Hepatitis B                            |[itching,  fatigue,  yellowish_skin,  dark_urine,  loss_of_appetite,  abdominal_pain,  yellow_urine,  yellowing_of_eyes,  malaise,  receiving_blood_transfusion,  receiving_unsterile_injections]                                     |[ vomiting]                                     |\n",
            "|Hepatitis B                            |[itching,  fatigue,  lethargy,  dark_urine,  loss_of_appetite,  abdominal_pain,  yellow_urine,  yellowing_of_eyes,  malaise,  receiving_blood_transfusion,  receiving_unsterile_injections]                                           |[ yellowish_skin,  vomiting]                    |\n",
            "|Hepatitis B                            |[itching,  fatigue,  lethargy,  yellowish_skin,  loss_of_appetite,  abdominal_pain,  yellow_urine,  yellowing_of_eyes,  malaise,  receiving_blood_transfusion,  receiving_unsterile_injections]                                       |[ dark_urine,  vomiting]                        |\n",
            "|Hepatitis B                            |[itching,  fatigue,  lethargy,  yellowish_skin,  dark_urine,  abdominal_pain,  yellow_urine,  yellowing_of_eyes,  malaise,  receiving_blood_transfusion,  receiving_unsterile_injections]                                             |[ loss_of_appetite,  vomiting]                  |\n",
            "|Hepatitis B                            |[itching,  fatigue,  lethargy,  yellowish_skin,  dark_urine,  loss_of_appetite,  yellow_urine,  yellowing_of_eyes,  malaise,  receiving_blood_transfusion,  receiving_unsterile_injections]                                           |[ abdominal_pain]                               |\n",
            "|Hepatitis B                            |[itching,  fatigue,  lethargy,  yellowish_skin,  dark_urine,  loss_of_appetite,  abdominal_pain,  yellowing_of_eyes,  malaise,  receiving_blood_transfusion,  receiving_unsterile_injections]                                         |[ vomiting]                                     |\n",
            "|Hepatitis C                            |[ fatigue,  yellowish_skin,  nausea,  loss_of_appetite,  family_history]                                                                                                                                                              |[ yellowing_of_eyes,  vomiting,  abdominal_pain]|\n",
            "|Hepatitis C                            |[ fatigue,  yellowish_skin,  nausea,  loss_of_appetite,  yellowing_of_eyes,  family_history]                                                                                                                                          |[ abdominal_pain,  vomiting]                    |\n",
            "|Hepatitis C                            |[ yellowish_skin,  nausea,  loss_of_appetite,  yellowing_of_eyes,  family_history]                                                                                                                                                    |[ abdominal_pain,  vomiting]                    |\n",
            "|Hepatitis C                            |[ fatigue,  nausea,  loss_of_appetite,  yellowing_of_eyes,  family_history]                                                                                                                                                           |[ yellowish_skin,  vomiting]                    |\n",
            "|Hepatitis C                            |[ fatigue,  yellowish_skin,  loss_of_appetite,  yellowing_of_eyes,  family_history]                                                                                                                                                   |[ abdominal_pain]                               |\n",
            "|Hepatitis C                            |[ fatigue,  yellowish_skin,  nausea,  yellowing_of_eyes,  family_history]                                                                                                                                                             |[ loss_of_appetite,  abdominal_pain,  vomiting] |\n",
            "|Hepatitis C                            |[ fatigue,  yellowish_skin,  nausea,  loss_of_appetite,  family_history]                                                                                                                                                              |[ yellowing_of_eyes,  vomiting,  abdominal_pain]|\n",
            "|Hepatitis C                            |[ fatigue,  yellowish_skin,  nausea,  loss_of_appetite,  yellowing_of_eyes]                                                                                                                                                           |[ abdominal_pain,  vomiting]                    |\n",
            "|Hepatitis C                            |[ fatigue,  yellowish_skin,  nausea,  loss_of_appetite,  yellowing_of_eyes,  family_history]                                                                                                                                          |[ abdominal_pain,  vomiting]                    |\n",
            "|Hepatitis C                            |[ fatigue,  yellowish_skin,  nausea,  loss_of_appetite,  yellowing_of_eyes,  family_history]                                                                                                                                          |[ abdominal_pain,  vomiting]                    |\n",
            "|Hepatitis D                            |[ vomiting,  fatigue,  yellowish_skin,  dark_urine,  nausea,  loss_of_appetite,  abdominal_pain,  yellowing_of_eyes]                                                                                                                  |[ joint_pain]                                   |\n",
            "|Hepatitis D                            |[ joint_pain,  fatigue,  yellowish_skin,  dark_urine,  nausea,  loss_of_appetite,  abdominal_pain,  yellowing_of_eyes]                                                                                                                |[ vomiting]                                     |\n",
            "|Hepatitis D                            |[ joint_pain,  vomiting,  fatigue,  dark_urine,  nausea,  loss_of_appetite,  abdominal_pain,  yellowing_of_eyes]                                                                                                                      |[ yellowish_skin]                               |\n",
            "|Hepatitis D                            |[ joint_pain,  vomiting,  fatigue,  yellowish_skin,  nausea,  loss_of_appetite,  abdominal_pain,  yellowing_of_eyes]                                                                                                                  |[ dark_urine]                                   |\n",
            "|Hepatitis D                            |[ joint_pain,  vomiting,  fatigue,  yellowish_skin,  dark_urine,  loss_of_appetite,  abdominal_pain,  yellowing_of_eyes]                                                                                                              |[ nausea]                                       |\n",
            "|Hepatitis D                            |[ joint_pain,  vomiting,  fatigue,  yellowish_skin,  dark_urine,  nausea,  abdominal_pain,  yellowing_of_eyes]                                                                                                                        |[ loss_of_appetite]                             |\n",
            "|Hepatitis D                            |[ joint_pain,  vomiting,  fatigue,  yellowish_skin,  dark_urine,  nausea,  loss_of_appetite,  yellowing_of_eyes]                                                                                                                      |[ abdominal_pain]                               |\n",
            "|Hepatitis D                            |[ joint_pain,  vomiting,  fatigue,  yellowish_skin,  dark_urine,  nausea,  loss_of_appetite,  abdominal_pain]                                                                                                                         |[ yellowing_of_eyes]                            |\n",
            "|Hepatitis E                            |[ vomiting,  fatigue,  high_fever,  yellowish_skin,  dark_urine,  nausea,  loss_of_appetite,  abdominal_pain,  yellowing_of_eyes,  acute_liver_failure,  coma,  stomach_bleeding]                                                     |[ joint_pain]                                   |\n",
            "|Hepatitis E                            |[ joint_pain,  fatigue,  high_fever,  yellowish_skin,  dark_urine,  nausea,  loss_of_appetite,  abdominal_pain,  yellowing_of_eyes,  acute_liver_failure,  coma,  stomach_bleeding]                                                   |[ vomiting]                                     |\n",
            "|Hepatitis E                            |[ joint_pain,  vomiting,  high_fever,  yellowish_skin,  dark_urine,  nausea,  loss_of_appetite,  abdominal_pain,  yellowing_of_eyes,  acute_liver_failure,  coma,  stomach_bleeding]                                                  |[ fatigue]                                      |\n",
            "|Hepatitis E                            |[ joint_pain,  vomiting,  fatigue,  high_fever,  dark_urine,  nausea,  loss_of_appetite,  abdominal_pain,  yellowing_of_eyes,  acute_liver_failure,  coma,  stomach_bleeding]                                                         |[ yellowish_skin]                               |\n",
            "|Hepatitis E                            |[ joint_pain,  vomiting,  fatigue,  high_fever,  yellowish_skin,  nausea,  loss_of_appetite,  abdominal_pain,  yellowing_of_eyes,  acute_liver_failure,  coma,  stomach_bleeding]                                                     |[ dark_urine]                                   |\n",
            "|Hepatitis E                            |[ joint_pain,  vomiting,  fatigue,  high_fever,  yellowish_skin,  dark_urine,  loss_of_appetite,  abdominal_pain,  yellowing_of_eyes,  acute_liver_failure,  coma,  stomach_bleeding]                                                 |[ nausea]                                       |\n",
            "|Alcoholic hepatitis                    |[ yellowish_skin,  abdominal_pain,  swelling_of_stomach,  distention_of_abdomen,  history_of_alcohol_consumption,  fluid_overload]                                                                                                    |[ vomiting]                                     |\n",
            "|Alcoholic hepatitis                    |[ vomiting,  yellowish_skin,  swelling_of_stomach,  distention_of_abdomen,  history_of_alcohol_consumption,  fluid_overload]                                                                                                          |[ abdominal_pain]                               |\n",
            "|Tuberculosis                           |[ chills,  vomiting,  fatigue,  weight_loss,  cough,  high_fever,  breathlessness,  sweating,  loss_of_appetite,  mild_fever,  yellowing_of_eyes,  swelled_lymph_nodes,  malaise,  phlegm,  chest_pain,  blood_in_sputum]             |[ yellowish_skin]                               |\n",
            "|Tuberculosis                           |[ chills,  vomiting,  fatigue,  weight_loss,  cough,  high_fever,  breathlessness,  sweating,  loss_of_appetite,  mild_fever,  yellowing_of_eyes,  swelled_lymph_nodes,  malaise,  phlegm,  chest_pain,  blood_in_sputum]             |[ yellowish_skin]                               |\n",
            "|Tuberculosis                           |[ vomiting,  fatigue,  weight_loss,  cough,  high_fever,  breathlessness,  sweating,  loss_of_appetite,  mild_fever,  yellowing_of_eyes,  swelled_lymph_nodes,  malaise,  phlegm,  chest_pain,  blood_in_sputum]                      |[ chills,  yellowish_skin]                      |\n",
            "|Tuberculosis                           |[ chills,  fatigue,  weight_loss,  cough,  high_fever,  breathlessness,  sweating,  loss_of_appetite,  mild_fever,  yellowing_of_eyes,  swelled_lymph_nodes,  malaise,  phlegm,  chest_pain,  blood_in_sputum]                        |[ yellowish_skin]                               |\n",
            "|Tuberculosis                           |[ chills,  vomiting,  weight_loss,  cough,  high_fever,  breathlessness,  sweating,  loss_of_appetite,  mild_fever,  yellowing_of_eyes,  swelled_lymph_nodes,  malaise,  phlegm,  chest_pain,  blood_in_sputum]                       |[ fatigue,  yellowish_skin]                     |\n",
            "|Tuberculosis                           |[ chills,  vomiting,  fatigue,  cough,  high_fever,  breathlessness,  sweating,  loss_of_appetite,  mild_fever,  yellowing_of_eyes,  swelled_lymph_nodes,  malaise,  phlegm,  chest_pain,  blood_in_sputum]                           |[ yellowish_skin]                               |\n",
            "|Tuberculosis                           |[ chills,  vomiting,  fatigue,  weight_loss,  high_fever,  breathlessness,  sweating,  loss_of_appetite,  mild_fever,  yellowing_of_eyes,  swelled_lymph_nodes,  malaise,  phlegm,  chest_pain,  blood_in_sputum]                     |[ cough,  yellowish_skin]                       |\n",
            "|Tuberculosis                           |[ chills,  vomiting,  fatigue,  weight_loss,  cough,  breathlessness,  sweating,  loss_of_appetite,  mild_fever,  yellowing_of_eyes,  swelled_lymph_nodes,  malaise,  phlegm,  chest_pain,  blood_in_sputum]                          |[ high_fever,  yellowish_skin]                  |\n",
            "|Tuberculosis                           |[ chills,  vomiting,  fatigue,  weight_loss,  cough,  high_fever,  sweating,  loss_of_appetite,  mild_fever,  yellowing_of_eyes,  swelled_lymph_nodes,  malaise,  phlegm,  chest_pain,  blood_in_sputum]                              |[ yellowish_skin,  breathlessness]              |\n",
            "|Tuberculosis                           |[ chills,  vomiting,  fatigue,  weight_loss,  cough,  high_fever,  breathlessness,  loss_of_appetite,  mild_fever,  yellowing_of_eyes,  swelled_lymph_nodes,  malaise,  phlegm,  chest_pain,  blood_in_sputum]                        |[ yellowish_skin,  sweating]                    |\n",
            "|Common Cold                            |[ continuous_sneezing,  fatigue,  cough,  high_fever,  headache,  swelled_lymph_nodes,  malaise,  phlegm,  throat_irritation,  redness_of_eyes,  sinus_pressure,  runny_nose,  congestion,  chest_pain,  loss_of_smell,  muscle_pain] |[ chills]                                       |\n",
            "|Common Cold                            |[ continuous_sneezing,  chills,  cough,  high_fever,  headache,  swelled_lymph_nodes,  malaise,  phlegm,  throat_irritation,  redness_of_eyes,  sinus_pressure,  runny_nose,  congestion,  chest_pain,  loss_of_smell,  muscle_pain]  |[ fatigue]                                      |\n",
            "|Common Cold                            |[ continuous_sneezing,  chills,  fatigue,  high_fever,  headache,  swelled_lymph_nodes,  malaise,  phlegm,  throat_irritation,  redness_of_eyes,  sinus_pressure,  runny_nose,  congestion,  chest_pain,  loss_of_smell,  muscle_pain]|[ cough]                                        |\n",
            "|Common Cold                            |[ continuous_sneezing,  chills,  fatigue,  cough,  headache,  swelled_lymph_nodes,  malaise,  phlegm,  throat_irritation,  redness_of_eyes,  sinus_pressure,  runny_nose,  congestion,  chest_pain,  loss_of_smell,  muscle_pain]     |[ high_fever]                                   |\n",
            "|Common Cold                            |[ continuous_sneezing,  chills,  fatigue,  cough,  high_fever,  swelled_lymph_nodes,  malaise,  phlegm,  throat_irritation,  redness_of_eyes,  sinus_pressure,  runny_nose,  congestion,  chest_pain,  loss_of_smell,  muscle_pain]   |[ headache]                                     |\n",
            "|Common Cold                            |[ continuous_sneezing,  chills,  fatigue,  cough,  high_fever,  headache,  swelled_lymph_nodes,  phlegm,  throat_irritation,  redness_of_eyes,  sinus_pressure,  runny_nose,  congestion,  chest_pain,  loss_of_smell,  muscle_pain]  |[ malaise]                                      |\n",
            "|Pneumonia                              |[ chills,  fatigue,  cough,  high_fever,  breathlessness,  sweating,  malaise,  chest_pain,  fast_heart_rate,  rusty_sputum]                                                                                                          |[ phlegm]                                       |\n",
            "|Pneumonia                              |[ fatigue,  cough,  high_fever,  breathlessness,  sweating,  malaise,  phlegm,  chest_pain,  fast_heart_rate,  rusty_sputum]                                                                                                          |[ chills]                                       |\n",
            "|Pneumonia                              |[ chills,  cough,  high_fever,  breathlessness,  sweating,  malaise,  phlegm,  chest_pain,  fast_heart_rate,  rusty_sputum]                                                                                                           |[ fatigue]                                      |\n",
            "+---------------------------------------+--------------------------------------------------------------------------------------------------------------------------------------------------------------------------------------------------------------------------------------+------------------------------------------------+\n",
            "only showing top 400 rows\n",
            "\n"
          ]
        }
      ]
    }
  ]
}